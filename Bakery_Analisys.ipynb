{
  "nbformat": 4,
  "nbformat_minor": 0,
  "metadata": {
    "colab": {
      "provenance": []
    },
    "kernelspec": {
      "name": "python3",
      "display_name": "Python 3"
    },
    "language_info": {
      "name": "python"
    }
  },
  "cells": [
    {
      "cell_type": "markdown",
      "source": [
        "# Initialization"
      ],
      "metadata": {
        "id": "zwjHvJVZCZ2M"
      }
    },
    {
      "cell_type": "code",
      "execution_count": 1,
      "metadata": {
        "colab": {
          "base_uri": "https://localhost:8080/"
        },
        "id": "YrQL6n5Rrd9h",
        "outputId": "e25f5753-4d42-42df-ee3d-1036f181fbe1"
      },
      "outputs": [
        {
          "output_type": "stream",
          "name": "stdout",
          "text": [
            "Looking in indexes: https://pypi.org/simple, https://us-python.pkg.dev/colab-wheels/public/simple/\n",
            "Collecting pandasql\n",
            "  Downloading pandasql-0.7.3.tar.gz (26 kB)\n",
            "  Preparing metadata (setup.py) ... \u001b[?25l\u001b[?25hdone\n",
            "Requirement already satisfied: numpy in /usr/local/lib/python3.9/dist-packages (from pandasql) (1.22.4)\n",
            "Requirement already satisfied: pandas in /usr/local/lib/python3.9/dist-packages (from pandasql) (1.4.4)\n",
            "Requirement already satisfied: sqlalchemy in /usr/local/lib/python3.9/dist-packages (from pandasql) (1.4.47)\n",
            "Requirement already satisfied: pytz>=2020.1 in /usr/local/lib/python3.9/dist-packages (from pandas->pandasql) (2022.7.1)\n",
            "Requirement already satisfied: python-dateutil>=2.8.1 in /usr/local/lib/python3.9/dist-packages (from pandas->pandasql) (2.8.2)\n",
            "Requirement already satisfied: greenlet!=0.4.17 in /usr/local/lib/python3.9/dist-packages (from sqlalchemy->pandasql) (2.0.2)\n",
            "Requirement already satisfied: six>=1.5 in /usr/local/lib/python3.9/dist-packages (from python-dateutil>=2.8.1->pandas->pandasql) (1.16.0)\n",
            "Building wheels for collected packages: pandasql\n",
            "  Building wheel for pandasql (setup.py) ... \u001b[?25l\u001b[?25hdone\n",
            "  Created wheel for pandasql: filename=pandasql-0.7.3-py3-none-any.whl size=26784 sha256=d7547120fd37f887180180b7b92bf9ac527612f48fc9bb799571214f27ca57e7\n",
            "  Stored in directory: /root/.cache/pip/wheels/63/e8/ec/75b1df467ecf57b6ececb32cb16f4e86697cbfe55cb0c51f07\n",
            "Successfully built pandasql\n",
            "Installing collected packages: pandasql\n",
            "Successfully installed pandasql-0.7.3\n"
          ]
        }
      ],
      "source": [
        "!pip install pandasql"
      ]
    },
    {
      "cell_type": "code",
      "source": [
        "import sqlite3\n",
        "import pandas as pd\n",
        "import pandasql as ps\n",
        "import numpy as np\n",
        "import datetime\n",
        "from matplotlib import pyplot as plt"
      ],
      "metadata": {
        "id": "8BlePu8Dr3kg"
      },
      "execution_count": 2,
      "outputs": []
    },
    {
      "cell_type": "code",
      "source": [
        "data = pd.read_csv('bread basket.csv')"
      ],
      "metadata": {
        "id": "_LJ8Y8p_sTHe"
      },
      "execution_count": 3,
      "outputs": []
    },
    {
      "cell_type": "code",
      "source": [
        "data.dtypes"
      ],
      "metadata": {
        "id": "zl429dBksbIF",
        "colab": {
          "base_uri": "https://localhost:8080/"
        },
        "outputId": "b91bff3b-76f5-4033-ffc8-2ec4e7dacd04"
      },
      "execution_count": 4,
      "outputs": [
        {
          "output_type": "execute_result",
          "data": {
            "text/plain": [
              "Transaction         int64\n",
              "Item               object\n",
              "date_time          object\n",
              "period_day         object\n",
              "weekday_weekend    object\n",
              "dtype: object"
            ]
          },
          "metadata": {},
          "execution_count": 4
        }
      ]
    },
    {
      "cell_type": "markdown",
      "source": [
        "# Data Exploration and Insights"
      ],
      "metadata": {
        "id": "rncIHE9tuTkA"
      }
    },
    {
      "cell_type": "markdown",
      "source": [
        "## Most and Least Sold Items in General"
      ],
      "metadata": {
        "id": "fM-x__Sduhj4"
      }
    },
    {
      "cell_type": "markdown",
      "source": [
        "### Code"
      ],
      "metadata": {
        "id": "Fc9eOPnL7fg7"
      }
    },
    {
      "cell_type": "code",
      "source": [
        "most_sold_items = '''select Item, count(Item) as Sold\n",
        "              from\n",
        "                data\n",
        "              group by\n",
        "                Item\n",
        "              order by\n",
        "                count(Item) desc limit 4\n",
        "              '''\n",
        "most_sold_items_data = ps.sqldf(most_sold_items)\n",
        "\n",
        "other_items = '''select count(Item) as Sold\n",
        "              from\n",
        "                data\n",
        "              where\n",
        "                Item not in ('Bread','Coffee', 'Tea', 'Cake')\n",
        "              '''\n",
        "\n",
        "other_items_data = ps.sqldf(other_items)\n",
        "\n",
        "others_row = {'Item': 'Others', 'Sold': other_items_data.iloc[0,0]}\n",
        "\n",
        "most_sold_items_data.loc[len(most_sold_items_data)] = others_row\n",
        "\n",
        "least_sold_items = '''select Item, count(Item) as Sold\n",
        "              from\n",
        "                data\n",
        "              group by\n",
        "                Item\n",
        "              order by\n",
        "                count(Item) asc limit 10\n",
        "              '''\n",
        "\n",
        "least_sold_items_data = ps.sqldf(least_sold_items)"
      ],
      "metadata": {
        "id": "1eUkGRCtukcv"
      },
      "execution_count": 5,
      "outputs": []
    },
    {
      "cell_type": "code",
      "source": [
        "def pizza_graph(x,labels):\n",
        "\n",
        "  fig1, ax1 = plt.subplots(figsize=(7,7))\n",
        "\n",
        "  explode = (0.1, 0.1, 0, 0, 0)\n",
        "\n",
        "  ax1.pie(x, explode = explode, labels = labels, autopct = '%1.1f%%',\n",
        "          shadow='True', startangle=90)\n",
        "\n",
        "  ax1.axis('equal')\n",
        "\n",
        "  ax1.set_title('Percentage of Items Sold', weight = 'bold',size = 16)\n",
        "\n",
        "  plt.show()"
      ],
      "metadata": {
        "id": "ptd_4lLH0Qtd"
      },
      "execution_count": 6,
      "outputs": []
    },
    {
      "cell_type": "markdown",
      "source": [
        "### Graph and Data"
      ],
      "metadata": {
        "id": "CPEIPMmq7lWi"
      }
    },
    {
      "cell_type": "code",
      "source": [
        "least_sold_items_data"
      ],
      "metadata": {
        "id": "yp0g-7Pne4N2",
        "colab": {
          "base_uri": "https://localhost:8080/",
          "height": 363
        },
        "outputId": "c7cf95ba-46b9-46f5-f9ce-80ee6ed655ef"
      },
      "execution_count": 7,
      "outputs": [
        {
          "output_type": "execute_result",
          "data": {
            "text/plain": [
              "              Item  Sold\n",
              "0       Adjustment     1\n",
              "1            Bacon     1\n",
              "2     Chicken sand     1\n",
              "3     Gift voucher     1\n",
              "4   Olum & polenta     1\n",
              "5          Polenta     1\n",
              "6         Raw bars     1\n",
              "7         The BART     1\n",
              "8    Bowl Nic Pitt     2\n",
              "9  Chimichurri Oil     2"
            ],
            "text/html": [
              "\n",
              "  <div id=\"df-efe6e05c-9c7f-47fa-a494-ed37e4c46466\">\n",
              "    <div class=\"colab-df-container\">\n",
              "      <div>\n",
              "<style scoped>\n",
              "    .dataframe tbody tr th:only-of-type {\n",
              "        vertical-align: middle;\n",
              "    }\n",
              "\n",
              "    .dataframe tbody tr th {\n",
              "        vertical-align: top;\n",
              "    }\n",
              "\n",
              "    .dataframe thead th {\n",
              "        text-align: right;\n",
              "    }\n",
              "</style>\n",
              "<table border=\"1\" class=\"dataframe\">\n",
              "  <thead>\n",
              "    <tr style=\"text-align: right;\">\n",
              "      <th></th>\n",
              "      <th>Item</th>\n",
              "      <th>Sold</th>\n",
              "    </tr>\n",
              "  </thead>\n",
              "  <tbody>\n",
              "    <tr>\n",
              "      <th>0</th>\n",
              "      <td>Adjustment</td>\n",
              "      <td>1</td>\n",
              "    </tr>\n",
              "    <tr>\n",
              "      <th>1</th>\n",
              "      <td>Bacon</td>\n",
              "      <td>1</td>\n",
              "    </tr>\n",
              "    <tr>\n",
              "      <th>2</th>\n",
              "      <td>Chicken sand</td>\n",
              "      <td>1</td>\n",
              "    </tr>\n",
              "    <tr>\n",
              "      <th>3</th>\n",
              "      <td>Gift voucher</td>\n",
              "      <td>1</td>\n",
              "    </tr>\n",
              "    <tr>\n",
              "      <th>4</th>\n",
              "      <td>Olum &amp; polenta</td>\n",
              "      <td>1</td>\n",
              "    </tr>\n",
              "    <tr>\n",
              "      <th>5</th>\n",
              "      <td>Polenta</td>\n",
              "      <td>1</td>\n",
              "    </tr>\n",
              "    <tr>\n",
              "      <th>6</th>\n",
              "      <td>Raw bars</td>\n",
              "      <td>1</td>\n",
              "    </tr>\n",
              "    <tr>\n",
              "      <th>7</th>\n",
              "      <td>The BART</td>\n",
              "      <td>1</td>\n",
              "    </tr>\n",
              "    <tr>\n",
              "      <th>8</th>\n",
              "      <td>Bowl Nic Pitt</td>\n",
              "      <td>2</td>\n",
              "    </tr>\n",
              "    <tr>\n",
              "      <th>9</th>\n",
              "      <td>Chimichurri Oil</td>\n",
              "      <td>2</td>\n",
              "    </tr>\n",
              "  </tbody>\n",
              "</table>\n",
              "</div>\n",
              "      <button class=\"colab-df-convert\" onclick=\"convertToInteractive('df-efe6e05c-9c7f-47fa-a494-ed37e4c46466')\"\n",
              "              title=\"Convert this dataframe to an interactive table.\"\n",
              "              style=\"display:none;\">\n",
              "        \n",
              "  <svg xmlns=\"http://www.w3.org/2000/svg\" height=\"24px\"viewBox=\"0 0 24 24\"\n",
              "       width=\"24px\">\n",
              "    <path d=\"M0 0h24v24H0V0z\" fill=\"none\"/>\n",
              "    <path d=\"M18.56 5.44l.94 2.06.94-2.06 2.06-.94-2.06-.94-.94-2.06-.94 2.06-2.06.94zm-11 1L8.5 8.5l.94-2.06 2.06-.94-2.06-.94L8.5 2.5l-.94 2.06-2.06.94zm10 10l.94 2.06.94-2.06 2.06-.94-2.06-.94-.94-2.06-.94 2.06-2.06.94z\"/><path d=\"M17.41 7.96l-1.37-1.37c-.4-.4-.92-.59-1.43-.59-.52 0-1.04.2-1.43.59L10.3 9.45l-7.72 7.72c-.78.78-.78 2.05 0 2.83L4 21.41c.39.39.9.59 1.41.59.51 0 1.02-.2 1.41-.59l7.78-7.78 2.81-2.81c.8-.78.8-2.07 0-2.86zM5.41 20L4 18.59l7.72-7.72 1.47 1.35L5.41 20z\"/>\n",
              "  </svg>\n",
              "      </button>\n",
              "      \n",
              "  <style>\n",
              "    .colab-df-container {\n",
              "      display:flex;\n",
              "      flex-wrap:wrap;\n",
              "      gap: 12px;\n",
              "    }\n",
              "\n",
              "    .colab-df-convert {\n",
              "      background-color: #E8F0FE;\n",
              "      border: none;\n",
              "      border-radius: 50%;\n",
              "      cursor: pointer;\n",
              "      display: none;\n",
              "      fill: #1967D2;\n",
              "      height: 32px;\n",
              "      padding: 0 0 0 0;\n",
              "      width: 32px;\n",
              "    }\n",
              "\n",
              "    .colab-df-convert:hover {\n",
              "      background-color: #E2EBFA;\n",
              "      box-shadow: 0px 1px 2px rgba(60, 64, 67, 0.3), 0px 1px 3px 1px rgba(60, 64, 67, 0.15);\n",
              "      fill: #174EA6;\n",
              "    }\n",
              "\n",
              "    [theme=dark] .colab-df-convert {\n",
              "      background-color: #3B4455;\n",
              "      fill: #D2E3FC;\n",
              "    }\n",
              "\n",
              "    [theme=dark] .colab-df-convert:hover {\n",
              "      background-color: #434B5C;\n",
              "      box-shadow: 0px 1px 3px 1px rgba(0, 0, 0, 0.15);\n",
              "      filter: drop-shadow(0px 1px 2px rgba(0, 0, 0, 0.3));\n",
              "      fill: #FFFFFF;\n",
              "    }\n",
              "  </style>\n",
              "\n",
              "      <script>\n",
              "        const buttonEl =\n",
              "          document.querySelector('#df-efe6e05c-9c7f-47fa-a494-ed37e4c46466 button.colab-df-convert');\n",
              "        buttonEl.style.display =\n",
              "          google.colab.kernel.accessAllowed ? 'block' : 'none';\n",
              "\n",
              "        async function convertToInteractive(key) {\n",
              "          const element = document.querySelector('#df-efe6e05c-9c7f-47fa-a494-ed37e4c46466');\n",
              "          const dataTable =\n",
              "            await google.colab.kernel.invokeFunction('convertToInteractive',\n",
              "                                                     [key], {});\n",
              "          if (!dataTable) return;\n",
              "\n",
              "          const docLinkHtml = 'Like what you see? Visit the ' +\n",
              "            '<a target=\"_blank\" href=https://colab.research.google.com/notebooks/data_table.ipynb>data table notebook</a>'\n",
              "            + ' to learn more about interactive tables.';\n",
              "          element.innerHTML = '';\n",
              "          dataTable['output_type'] = 'display_data';\n",
              "          await google.colab.output.renderOutput(dataTable, element);\n",
              "          const docLink = document.createElement('div');\n",
              "          docLink.innerHTML = docLinkHtml;\n",
              "          element.appendChild(docLink);\n",
              "        }\n",
              "      </script>\n",
              "    </div>\n",
              "  </div>\n",
              "  "
            ]
          },
          "metadata": {},
          "execution_count": 7
        }
      ]
    },
    {
      "cell_type": "code",
      "source": [
        "most_sold_items_data.head()"
      ],
      "metadata": {
        "id": "Zo0ba0uA0OAO",
        "colab": {
          "base_uri": "https://localhost:8080/",
          "height": 206
        },
        "outputId": "7c55f1f4-8ee6-45a0-ab32-7f04e6e678f1"
      },
      "execution_count": 8,
      "outputs": [
        {
          "output_type": "execute_result",
          "data": {
            "text/plain": [
              "     Item  Sold\n",
              "0  Coffee  5471\n",
              "1   Bread  3325\n",
              "2     Tea  1435\n",
              "3    Cake  1025\n",
              "4  Others  9251"
            ],
            "text/html": [
              "\n",
              "  <div id=\"df-b6f09e45-a29e-4534-be45-e120d0d4d916\">\n",
              "    <div class=\"colab-df-container\">\n",
              "      <div>\n",
              "<style scoped>\n",
              "    .dataframe tbody tr th:only-of-type {\n",
              "        vertical-align: middle;\n",
              "    }\n",
              "\n",
              "    .dataframe tbody tr th {\n",
              "        vertical-align: top;\n",
              "    }\n",
              "\n",
              "    .dataframe thead th {\n",
              "        text-align: right;\n",
              "    }\n",
              "</style>\n",
              "<table border=\"1\" class=\"dataframe\">\n",
              "  <thead>\n",
              "    <tr style=\"text-align: right;\">\n",
              "      <th></th>\n",
              "      <th>Item</th>\n",
              "      <th>Sold</th>\n",
              "    </tr>\n",
              "  </thead>\n",
              "  <tbody>\n",
              "    <tr>\n",
              "      <th>0</th>\n",
              "      <td>Coffee</td>\n",
              "      <td>5471</td>\n",
              "    </tr>\n",
              "    <tr>\n",
              "      <th>1</th>\n",
              "      <td>Bread</td>\n",
              "      <td>3325</td>\n",
              "    </tr>\n",
              "    <tr>\n",
              "      <th>2</th>\n",
              "      <td>Tea</td>\n",
              "      <td>1435</td>\n",
              "    </tr>\n",
              "    <tr>\n",
              "      <th>3</th>\n",
              "      <td>Cake</td>\n",
              "      <td>1025</td>\n",
              "    </tr>\n",
              "    <tr>\n",
              "      <th>4</th>\n",
              "      <td>Others</td>\n",
              "      <td>9251</td>\n",
              "    </tr>\n",
              "  </tbody>\n",
              "</table>\n",
              "</div>\n",
              "      <button class=\"colab-df-convert\" onclick=\"convertToInteractive('df-b6f09e45-a29e-4534-be45-e120d0d4d916')\"\n",
              "              title=\"Convert this dataframe to an interactive table.\"\n",
              "              style=\"display:none;\">\n",
              "        \n",
              "  <svg xmlns=\"http://www.w3.org/2000/svg\" height=\"24px\"viewBox=\"0 0 24 24\"\n",
              "       width=\"24px\">\n",
              "    <path d=\"M0 0h24v24H0V0z\" fill=\"none\"/>\n",
              "    <path d=\"M18.56 5.44l.94 2.06.94-2.06 2.06-.94-2.06-.94-.94-2.06-.94 2.06-2.06.94zm-11 1L8.5 8.5l.94-2.06 2.06-.94-2.06-.94L8.5 2.5l-.94 2.06-2.06.94zm10 10l.94 2.06.94-2.06 2.06-.94-2.06-.94-.94-2.06-.94 2.06-2.06.94z\"/><path d=\"M17.41 7.96l-1.37-1.37c-.4-.4-.92-.59-1.43-.59-.52 0-1.04.2-1.43.59L10.3 9.45l-7.72 7.72c-.78.78-.78 2.05 0 2.83L4 21.41c.39.39.9.59 1.41.59.51 0 1.02-.2 1.41-.59l7.78-7.78 2.81-2.81c.8-.78.8-2.07 0-2.86zM5.41 20L4 18.59l7.72-7.72 1.47 1.35L5.41 20z\"/>\n",
              "  </svg>\n",
              "      </button>\n",
              "      \n",
              "  <style>\n",
              "    .colab-df-container {\n",
              "      display:flex;\n",
              "      flex-wrap:wrap;\n",
              "      gap: 12px;\n",
              "    }\n",
              "\n",
              "    .colab-df-convert {\n",
              "      background-color: #E8F0FE;\n",
              "      border: none;\n",
              "      border-radius: 50%;\n",
              "      cursor: pointer;\n",
              "      display: none;\n",
              "      fill: #1967D2;\n",
              "      height: 32px;\n",
              "      padding: 0 0 0 0;\n",
              "      width: 32px;\n",
              "    }\n",
              "\n",
              "    .colab-df-convert:hover {\n",
              "      background-color: #E2EBFA;\n",
              "      box-shadow: 0px 1px 2px rgba(60, 64, 67, 0.3), 0px 1px 3px 1px rgba(60, 64, 67, 0.15);\n",
              "      fill: #174EA6;\n",
              "    }\n",
              "\n",
              "    [theme=dark] .colab-df-convert {\n",
              "      background-color: #3B4455;\n",
              "      fill: #D2E3FC;\n",
              "    }\n",
              "\n",
              "    [theme=dark] .colab-df-convert:hover {\n",
              "      background-color: #434B5C;\n",
              "      box-shadow: 0px 1px 3px 1px rgba(0, 0, 0, 0.15);\n",
              "      filter: drop-shadow(0px 1px 2px rgba(0, 0, 0, 0.3));\n",
              "      fill: #FFFFFF;\n",
              "    }\n",
              "  </style>\n",
              "\n",
              "      <script>\n",
              "        const buttonEl =\n",
              "          document.querySelector('#df-b6f09e45-a29e-4534-be45-e120d0d4d916 button.colab-df-convert');\n",
              "        buttonEl.style.display =\n",
              "          google.colab.kernel.accessAllowed ? 'block' : 'none';\n",
              "\n",
              "        async function convertToInteractive(key) {\n",
              "          const element = document.querySelector('#df-b6f09e45-a29e-4534-be45-e120d0d4d916');\n",
              "          const dataTable =\n",
              "            await google.colab.kernel.invokeFunction('convertToInteractive',\n",
              "                                                     [key], {});\n",
              "          if (!dataTable) return;\n",
              "\n",
              "          const docLinkHtml = 'Like what you see? Visit the ' +\n",
              "            '<a target=\"_blank\" href=https://colab.research.google.com/notebooks/data_table.ipynb>data table notebook</a>'\n",
              "            + ' to learn more about interactive tables.';\n",
              "          element.innerHTML = '';\n",
              "          dataTable['output_type'] = 'display_data';\n",
              "          await google.colab.output.renderOutput(dataTable, element);\n",
              "          const docLink = document.createElement('div');\n",
              "          docLink.innerHTML = docLinkHtml;\n",
              "          element.appendChild(docLink);\n",
              "        }\n",
              "      </script>\n",
              "    </div>\n",
              "  </div>\n",
              "  "
            ]
          },
          "metadata": {},
          "execution_count": 8
        }
      ]
    },
    {
      "cell_type": "code",
      "source": [
        "pizza_graph(most_sold_items_data['Sold'], most_sold_items_data['Item'])"
      ],
      "metadata": {
        "id": "5kcc92R07PLC",
        "colab": {
          "base_uri": "https://localhost:8080/",
          "height": 603
        },
        "outputId": "3e2c8cff-52c2-475a-af93-4ca04b8e4160"
      },
      "execution_count": 9,
      "outputs": [
        {
          "output_type": "display_data",
          "data": {
            "text/plain": [
              "<Figure size 700x700 with 1 Axes>"
            ],
            "image/png": "[encoded data removed]"
          },
          "metadata": {}
        }
      ]
    },
    {
      "cell_type": "markdown",
      "source": [
        "### Insights"
      ],
      "metadata": {
        "id": "TDRXL5ntamo-"
      }
    },
    {
      "cell_type": "markdown",
      "source": [
        "- There are plenty of products that sold less than 10 units over the entire time the data was collected, these products can probably be removed from the menu since they're occupying spaces where other more profitable products could ocuppy, such as Cake or Bread\n",
        "\n",
        "- The most sold products are Coffe and Bread from a large margin, therefore these could recieve some investiments such as offering new types of Coffe and Bread or even improve the recipes of each one to make them better in order to try to rise the volume of sales of these items\n",
        "\n",
        "- Since Coffe and Bread are the most attractive items in the shop, some conected interests could be offered too. Like offering books to be read while taking coffe."
      ],
      "metadata": {
        "id": "lFqxMO66aolO"
      }
    },
    {
      "cell_type": "markdown",
      "source": [
        "## Day Period Analisys"
      ],
      "metadata": {
        "id": "YpNvF08L5miC"
      }
    },
    {
      "cell_type": "markdown",
      "source": [
        "### Code"
      ],
      "metadata": {
        "id": "BR1ygF9EYkju"
      }
    },
    {
      "cell_type": "code",
      "source": [
        "graph_period_day = '''select period_day as 'Day Period', count(period_day) as 'Number of Sales'\n",
        "              from\n",
        "                data\n",
        "              group by\n",
        "                period_day\n",
        "              order by\n",
        "                count(period_day) desc limit 2\n",
        "              '''\n",
        "\n",
        "graph_period_day_data = ps.sqldf(graph_period_day)\n",
        "\n",
        "other_period = '''select count(period_day) as Sold\n",
        "              from\n",
        "                data\n",
        "              where\n",
        "                period_day not in ('afternoon','morning')\n",
        "              '''\n",
        "\n",
        "other_period_data = ps.sqldf(other_period)\n",
        "\n",
        "others_period_row = {'Day Period': 'Others', 'Number of Sales': other_period_data.iloc[0,0]}\n",
        "\n",
        "graph_period_day_data.loc[len(graph_period_day_data)] = others_period_row\n",
        "\n",
        "period_day = '''select period_day as 'Day Period', count(period_day) as 'Number of Sales'\n",
        "              from\n",
        "                data\n",
        "              group by\n",
        "                period_day\n",
        "              order by\n",
        "                count(period_day) desc\n",
        "              '''\n",
        "\n",
        "period_day_data = ps.sqldf(period_day)"
      ],
      "metadata": {
        "id": "yAFJwAXeVBxq"
      },
      "execution_count": 10,
      "outputs": []
    },
    {
      "cell_type": "code",
      "source": [
        "weekely = '''select weekday_weekend as 'Week Day', count(weekday_weekend) as 'Number of Sales'\n",
        "              from\n",
        "                data\n",
        "              group by\n",
        "                weekday_weekend\n",
        "              order by\n",
        "                count(weekday_weekend) desc\n",
        "              '''\n",
        "weekely_data = ps.sqldf(weekely)"
      ],
      "metadata": {
        "id": "SQUwfcRLWA5l"
      },
      "execution_count": 11,
      "outputs": []
    },
    {
      "cell_type": "code",
      "source": [
        "def double_pizza_graph2(x1,labels1,x2,labels2):\n",
        "\n",
        "  fig1, ax = plt.subplots(1,2, figsize=(15,8))\n",
        "\n",
        "  ax[0].pie(x1, labels = labels1, autopct = '%1.1f%%', shadow='True', startangle=90)\n",
        "\n",
        "  ax[0].axis('equal')\n",
        "\n",
        "  ax[0].set_title('Percentage of Items Sold on Day Period', weight = 'bold',size = 16)\n",
        "\n",
        "  ax[1].pie(x2, labels = labels2, autopct = '%1.1f%%', shadow='True', startangle=90)\n",
        "\n",
        "  ax[1].axis('equal')\n",
        "\n",
        "  ax[1].set_title('Percentage of Items Sold on Week Days', weight = 'bold',size = 16)\n",
        "\n",
        "\n",
        "  plt.show()"
      ],
      "metadata": {
        "id": "HXAG2TsAYwwO"
      },
      "execution_count": 12,
      "outputs": []
    },
    {
      "cell_type": "markdown",
      "source": [
        "### Graphs and Data"
      ],
      "metadata": {
        "id": "Vg1NIyoAYo5d"
      }
    },
    {
      "cell_type": "code",
      "source": [
        "period_day_data.head()"
      ],
      "metadata": {
        "id": "JB8IDd_SdI4l",
        "colab": {
          "base_uri": "https://localhost:8080/",
          "height": 175
        },
        "outputId": "eebd873d-c209-45c3-c308-f596a216f3a5"
      },
      "execution_count": 13,
      "outputs": [
        {
          "output_type": "execute_result",
          "data": {
            "text/plain": [
              "  Day Period  Number of Sales\n",
              "0  afternoon            11569\n",
              "1    morning             8404\n",
              "2    evening              520\n",
              "3      night               14"
            ],
            "text/html": [
              "\n",
              "  <div id=\"df-dfb46c6d-723a-46d4-b2fb-34388fcdce24\">\n",
              "    <div class=\"colab-df-container\">\n",
              "      <div>\n",
              "<style scoped>\n",
              "    .dataframe tbody tr th:only-of-type {\n",
              "        vertical-align: middle;\n",
              "    }\n",
              "\n",
              "    .dataframe tbody tr th {\n",
              "        vertical-align: top;\n",
              "    }\n",
              "\n",
              "    .dataframe thead th {\n",
              "        text-align: right;\n",
              "    }\n",
              "</style>\n",
              "<table border=\"1\" class=\"dataframe\">\n",
              "  <thead>\n",
              "    <tr style=\"text-align: right;\">\n",
              "      <th></th>\n",
              "      <th>Day Period</th>\n",
              "      <th>Number of Sales</th>\n",
              "    </tr>\n",
              "  </thead>\n",
              "  <tbody>\n",
              "    <tr>\n",
              "      <th>0</th>\n",
              "      <td>afternoon</td>\n",
              "      <td>11569</td>\n",
              "    </tr>\n",
              "    <tr>\n",
              "      <th>1</th>\n",
              "      <td>morning</td>\n",
              "      <td>8404</td>\n",
              "    </tr>\n",
              "    <tr>\n",
              "      <th>2</th>\n",
              "      <td>evening</td>\n",
              "      <td>520</td>\n",
              "    </tr>\n",
              "    <tr>\n",
              "      <th>3</th>\n",
              "      <td>night</td>\n",
              "      <td>14</td>\n",
              "    </tr>\n",
              "  </tbody>\n",
              "</table>\n",
              "</div>\n",
              "      <button class=\"colab-df-convert\" onclick=\"convertToInteractive('df-dfb46c6d-723a-46d4-b2fb-34388fcdce24')\"\n",
              "              title=\"Convert this dataframe to an interactive table.\"\n",
              "              style=\"display:none;\">\n",
              "        \n",
              "  <svg xmlns=\"http://www.w3.org/2000/svg\" height=\"24px\"viewBox=\"0 0 24 24\"\n",
              "       width=\"24px\">\n",
              "    <path d=\"M0 0h24v24H0V0z\" fill=\"none\"/>\n",
              "    <path d=\"M18.56 5.44l.94 2.06.94-2.06 2.06-.94-2.06-.94-.94-2.06-.94 2.06-2.06.94zm-11 1L8.5 8.5l.94-2.06 2.06-.94-2.06-.94L8.5 2.5l-.94 2.06-2.06.94zm10 10l.94 2.06.94-2.06 2.06-.94-2.06-.94-.94-2.06-.94 2.06-2.06.94z\"/><path d=\"M17.41 7.96l-1.37-1.37c-.4-.4-.92-.59-1.43-.59-.52 0-1.04.2-1.43.59L10.3 9.45l-7.72 7.72c-.78.78-.78 2.05 0 2.83L4 21.41c.39.39.9.59 1.41.59.51 0 1.02-.2 1.41-.59l7.78-7.78 2.81-2.81c.8-.78.8-2.07 0-2.86zM5.41 20L4 18.59l7.72-7.72 1.47 1.35L5.41 20z\"/>\n",
              "  </svg>\n",
              "      </button>\n",
              "      \n",
              "  <style>\n",
              "    .colab-df-container {\n",
              "      display:flex;\n",
              "      flex-wrap:wrap;\n",
              "      gap: 12px;\n",
              "    }\n",
              "\n",
              "    .colab-df-convert {\n",
              "      background-color: #E8F0FE;\n",
              "      border: none;\n",
              "      border-radius: 50%;\n",
              "      cursor: pointer;\n",
              "      display: none;\n",
              "      fill: #1967D2;\n",
              "      height: 32px;\n",
              "      padding: 0 0 0 0;\n",
              "      width: 32px;\n",
              "    }\n",
              "\n",
              "    .colab-df-convert:hover {\n",
              "      background-color: #E2EBFA;\n",
              "      box-shadow: 0px 1px 2px rgba(60, 64, 67, 0.3), 0px 1px 3px 1px rgba(60, 64, 67, 0.15);\n",
              "      fill: #174EA6;\n",
              "    }\n",
              "\n",
              "    [theme=dark] .colab-df-convert {\n",
              "      background-color: #3B4455;\n",
              "      fill: #D2E3FC;\n",
              "    }\n",
              "\n",
              "    [theme=dark] .colab-df-convert:hover {\n",
              "      background-color: #434B5C;\n",
              "      box-shadow: 0px 1px 3px 1px rgba(0, 0, 0, 0.15);\n",
              "      filter: drop-shadow(0px 1px 2px rgba(0, 0, 0, 0.3));\n",
              "      fill: #FFFFFF;\n",
              "    }\n",
              "  </style>\n",
              "\n",
              "      <script>\n",
              "        const buttonEl =\n",
              "          document.querySelector('#df-dfb46c6d-723a-46d4-b2fb-34388fcdce24 button.colab-df-convert');\n",
              "        buttonEl.style.display =\n",
              "          google.colab.kernel.accessAllowed ? 'block' : 'none';\n",
              "\n",
              "        async function convertToInteractive(key) {\n",
              "          const element = document.querySelector('#df-dfb46c6d-723a-46d4-b2fb-34388fcdce24');\n",
              "          const dataTable =\n",
              "            await google.colab.kernel.invokeFunction('convertToInteractive',\n",
              "                                                     [key], {});\n",
              "          if (!dataTable) return;\n",
              "\n",
              "          const docLinkHtml = 'Like what you see? Visit the ' +\n",
              "            '<a target=\"_blank\" href=https://colab.research.google.com/notebooks/data_table.ipynb>data table notebook</a>'\n",
              "            + ' to learn more about interactive tables.';\n",
              "          element.innerHTML = '';\n",
              "          dataTable['output_type'] = 'display_data';\n",
              "          await google.colab.output.renderOutput(dataTable, element);\n",
              "          const docLink = document.createElement('div');\n",
              "          docLink.innerHTML = docLinkHtml;\n",
              "          element.appendChild(docLink);\n",
              "        }\n",
              "      </script>\n",
              "    </div>\n",
              "  </div>\n",
              "  "
            ]
          },
          "metadata": {},
          "execution_count": 13
        }
      ]
    },
    {
      "cell_type": "code",
      "source": [
        "weekely_data.head()"
      ],
      "metadata": {
        "id": "5hJN-qFydJJF",
        "colab": {
          "base_uri": "https://localhost:8080/",
          "height": 112
        },
        "outputId": "b0704de8-2f50-44c9-d103-33abc21ee886"
      },
      "execution_count": 14,
      "outputs": [
        {
          "output_type": "execute_result",
          "data": {
            "text/plain": [
              "  Week Day  Number of Sales\n",
              "0  weekday            12807\n",
              "1  weekend             7700"
            ],
            "text/html": [
              "\n",
              "  <div id=\"df-a24a7b00-abe0-48d7-a481-847a39ee6148\">\n",
              "    <div class=\"colab-df-container\">\n",
              "      <div>\n",
              "<style scoped>\n",
              "    .dataframe tbody tr th:only-of-type {\n",
              "        vertical-align: middle;\n",
              "    }\n",
              "\n",
              "    .dataframe tbody tr th {\n",
              "        vertical-align: top;\n",
              "    }\n",
              "\n",
              "    .dataframe thead th {\n",
              "        text-align: right;\n",
              "    }\n",
              "</style>\n",
              "<table border=\"1\" class=\"dataframe\">\n",
              "  <thead>\n",
              "    <tr style=\"text-align: right;\">\n",
              "      <th></th>\n",
              "      <th>Week Day</th>\n",
              "      <th>Number of Sales</th>\n",
              "    </tr>\n",
              "  </thead>\n",
              "  <tbody>\n",
              "    <tr>\n",
              "      <th>0</th>\n",
              "      <td>weekday</td>\n",
              "      <td>12807</td>\n",
              "    </tr>\n",
              "    <tr>\n",
              "      <th>1</th>\n",
              "      <td>weekend</td>\n",
              "      <td>7700</td>\n",
              "    </tr>\n",
              "  </tbody>\n",
              "</table>\n",
              "</div>\n",
              "      <button class=\"colab-df-convert\" onclick=\"convertToInteractive('df-a24a7b00-abe0-48d7-a481-847a39ee6148')\"\n",
              "              title=\"Convert this dataframe to an interactive table.\"\n",
              "              style=\"display:none;\">\n",
              "        \n",
              "  <svg xmlns=\"http://www.w3.org/2000/svg\" height=\"24px\"viewBox=\"0 0 24 24\"\n",
              "       width=\"24px\">\n",
              "    <path d=\"M0 0h24v24H0V0z\" fill=\"none\"/>\n",
              "    <path d=\"M18.56 5.44l.94 2.06.94-2.06 2.06-.94-2.06-.94-.94-2.06-.94 2.06-2.06.94zm-11 1L8.5 8.5l.94-2.06 2.06-.94-2.06-.94L8.5 2.5l-.94 2.06-2.06.94zm10 10l.94 2.06.94-2.06 2.06-.94-2.06-.94-.94-2.06-.94 2.06-2.06.94z\"/><path d=\"M17.41 7.96l-1.37-1.37c-.4-.4-.92-.59-1.43-.59-.52 0-1.04.2-1.43.59L10.3 9.45l-7.72 7.72c-.78.78-.78 2.05 0 2.83L4 21.41c.39.39.9.59 1.41.59.51 0 1.02-.2 1.41-.59l7.78-7.78 2.81-2.81c.8-.78.8-2.07 0-2.86zM5.41 20L4 18.59l7.72-7.72 1.47 1.35L5.41 20z\"/>\n",
              "  </svg>\n",
              "      </button>\n",
              "      \n",
              "  <style>\n",
              "    .colab-df-container {\n",
              "      display:flex;\n",
              "      flex-wrap:wrap;\n",
              "      gap: 12px;\n",
              "    }\n",
              "\n",
              "    .colab-df-convert {\n",
              "      background-color: #E8F0FE;\n",
              "      border: none;\n",
              "      border-radius: 50%;\n",
              "      cursor: pointer;\n",
              "      display: none;\n",
              "      fill: #1967D2;\n",
              "      height: 32px;\n",
              "      padding: 0 0 0 0;\n",
              "      width: 32px;\n",
              "    }\n",
              "\n",
              "    .colab-df-convert:hover {\n",
              "      background-color: #E2EBFA;\n",
              "      box-shadow: 0px 1px 2px rgba(60, 64, 67, 0.3), 0px 1px 3px 1px rgba(60, 64, 67, 0.15);\n",
              "      fill: #174EA6;\n",
              "    }\n",
              "\n",
              "    [theme=dark] .colab-df-convert {\n",
              "      background-color: #3B4455;\n",
              "      fill: #D2E3FC;\n",
              "    }\n",
              "\n",
              "    [theme=dark] .colab-df-convert:hover {\n",
              "      background-color: #434B5C;\n",
              "      box-shadow: 0px 1px 3px 1px rgba(0, 0, 0, 0.15);\n",
              "      filter: drop-shadow(0px 1px 2px rgba(0, 0, 0, 0.3));\n",
              "      fill: #FFFFFF;\n",
              "    }\n",
              "  </style>\n",
              "\n",
              "      <script>\n",
              "        const buttonEl =\n",
              "          document.querySelector('#df-a24a7b00-abe0-48d7-a481-847a39ee6148 button.colab-df-convert');\n",
              "        buttonEl.style.display =\n",
              "          google.colab.kernel.accessAllowed ? 'block' : 'none';\n",
              "\n",
              "        async function convertToInteractive(key) {\n",
              "          const element = document.querySelector('#df-a24a7b00-abe0-48d7-a481-847a39ee6148');\n",
              "          const dataTable =\n",
              "            await google.colab.kernel.invokeFunction('convertToInteractive',\n",
              "                                                     [key], {});\n",
              "          if (!dataTable) return;\n",
              "\n",
              "          const docLinkHtml = 'Like what you see? Visit the ' +\n",
              "            '<a target=\"_blank\" href=https://colab.research.google.com/notebooks/data_table.ipynb>data table notebook</a>'\n",
              "            + ' to learn more about interactive tables.';\n",
              "          element.innerHTML = '';\n",
              "          dataTable['output_type'] = 'display_data';\n",
              "          await google.colab.output.renderOutput(dataTable, element);\n",
              "          const docLink = document.createElement('div');\n",
              "          docLink.innerHTML = docLinkHtml;\n",
              "          element.appendChild(docLink);\n",
              "        }\n",
              "      </script>\n",
              "    </div>\n",
              "  </div>\n",
              "  "
            ]
          },
          "metadata": {},
          "execution_count": 14
        }
      ]
    },
    {
      "cell_type": "code",
      "source": [
        "double_pizza_graph2(graph_period_day_data['Number of Sales'],graph_period_day_data['Day Period'],weekely_data['Number of Sales'],weekely_data['Week Day'])"
      ],
      "metadata": {
        "id": "s6dwbt2kYqkG",
        "colab": {
          "base_uri": "https://localhost:8080/",
          "height": 501
        },
        "outputId": "d8cf2680-5a78-4dca-8f4f-17f28845bbf4"
      },
      "execution_count": 15,
      "outputs": [
        {
          "output_type": "display_data",
          "data": {
            "text/plain": [
              "<Figure size 1500x800 with 2 Axes>"
            ],
            "image/png": "[encoded data removed]"
          },
          "metadata": {}
        }
      ]
    },
    {
      "cell_type": "markdown",
      "source": [
        "### Insights"
      ],
      "metadata": {
        "id": "Jdq64tKhib-v"
      }
    },
    {
      "cell_type": "markdown",
      "source": [
        "- The most profitable periods are, by a large margin, afternoon and morning, respectively. So these should be the periods to pay more attention to.\n",
        "\n",
        "- Evening and Night times are the least profitable of all. If there are no interests in specifically work at these periods, such as attend an specific public, closing the store could be an alternative to consider in order to save some currency from keeping the shop from working expenses.\n",
        "\n",
        "- Weekdays are the ones with most sales being made, so if there are any kind of problem where the shop needs to be closed, the weekends are better to lose less potencial sales.\n",
        "\n",
        "- Since the products need raw material to be made, such as flour for Bread or coffe powder and seeds for the Coffe, there should be a plan for acquiring these materials in order to prepare for higher demand of the weekdays."
      ],
      "metadata": {
        "id": "bWO5JRJHa8SO"
      }
    },
    {
      "cell_type": "markdown",
      "source": [
        "## Day Time Analisys"
      ],
      "metadata": {
        "id": "VYSXymYPifMu"
      }
    },
    {
      "cell_type": "markdown",
      "source": [
        "### Code"
      ],
      "metadata": {
        "id": "KXtrG5hFjH5X"
      }
    },
    {
      "cell_type": "markdown",
      "source": [
        "#### Total Purchases Over Morning"
      ],
      "metadata": {
        "id": "u_jK-GY15ZCj"
      }
    },
    {
      "cell_type": "code",
      "source": [
        "time_period_day_morning = '''select date_time as Time, period_day as 'Day Period'\n",
        "              from\n",
        "                data\n",
        "              where\n",
        "                period_day = 'morning'\n",
        "              '''\n",
        "\n",
        "time_period_day_morning_data = ps.sqldf(time_period_day_morning)\n",
        "\n",
        "for numero_linha, texto_linha in enumerate(time_period_day_morning_data['Time']):\n",
        "  tempo = time_period_day_morning_data['Time'].iloc[numero_linha]\n",
        "  timestamp = datetime.datetime.strptime(tempo, '%d-%m-%Y %H:%M')\n",
        "  time_period_day_morning_data['Time'][numero_linha] = timestamp.strftime('2021-01-01 %H:%M')\n",
        "\n",
        "morning_count = '''select Time, count(Time) as Purchases\n",
        "              from\n",
        "                time_period_day_morning_data\n",
        "              group by\n",
        "                Time\n",
        "              '''\n",
        "\n",
        "morning_count_data_1 = ps.sqldf(morning_count)\n",
        "\n",
        "morning_count_data_2 = pd.to_datetime(morning_count_data_1['Time'])\n",
        "\n",
        "time_data = []\n",
        "\n",
        "for numero_linha_time, valor_linha_time in enumerate(morning_count_data_2):\n",
        "  time_data.append(morning_count_data_2[numero_linha_time])\n",
        "\n",
        "morning_count_data = pd.DataFrame({'Time': time_data,\n",
        "                                  'Purchases': morning_count_data_1['Purchases']})\n",
        "\n",
        "morning_dataframe = morning_count_data.drop([0])"
      ],
      "metadata": {
        "id": "Z2xE1yIDHaTK"
      },
      "execution_count": 16,
      "outputs": []
    },
    {
      "cell_type": "markdown",
      "source": [
        "##### From 7:30 to 8:00"
      ],
      "metadata": {
        "id": "vjzTkODA6iKS"
      }
    },
    {
      "cell_type": "code",
      "source": [
        "time_period_day_morning_730 = '''select date_time as Time, period_day as 'Day Period'\n",
        "              from\n",
        "                data\n",
        "              where\n",
        "                period_day = 'morning'\n",
        "              '''\n",
        "\n",
        "time_period_day_morning_730_data = ps.sqldf(time_period_day_morning_730)\n",
        "\n",
        "for numero_linha_morning_730, texto_linha_morning_730 in enumerate(time_period_day_morning_730_data['Time']):\n",
        "  tempo_morning_730 = time_period_day_morning_730_data['Time'].iloc[numero_linha_morning_730]\n",
        "  timestamp_morning_730 = datetime.datetime.strptime(tempo_morning_730, '%d-%m-%Y %H:%M')\n",
        "  time_period_day_morning_730_data['Time'][numero_linha_morning_730] = timestamp_morning_730.strftime('2021-01-01 %H:%M')\n",
        "\n",
        "morning_count_730 = '''select Time, count(Time) as Purchases\n",
        "              from\n",
        "                time_period_day_morning_730_data\n",
        "              where\n",
        "                Time >= '2021-01-01 07:30:00' and Time < '2021-01-01 08:00:00'\n",
        "              '''\n",
        "\n",
        "morning_count_730_data_1 = ps.sqldf(morning_count_730)\n",
        "\n",
        "time_data_morning_count_730 = ['07:30 - 08:00']\n",
        "\n",
        "morning_count_730_data = pd.DataFrame({'Time': time_data_morning_count_730,\n",
        "                                  'Purchases': morning_count_730_data_1['Purchases']})\n",
        "\n",
        "morning_730_dataframe = morning_count_730_data"
      ],
      "metadata": {
        "id": "NkXAm6w36_e7"
      },
      "execution_count": 17,
      "outputs": []
    },
    {
      "cell_type": "markdown",
      "source": [
        "##### From 8:00 to 8:30"
      ],
      "metadata": {
        "id": "5BGjHIX56ltq"
      }
    },
    {
      "cell_type": "code",
      "source": [
        "time_period_day_morning_800 = '''select date_time as Time, period_day as 'Day Period'\n",
        "              from\n",
        "                data\n",
        "              where\n",
        "                period_day = 'morning'\n",
        "              '''\n",
        "\n",
        "time_period_day_morning_800_data = ps.sqldf(time_period_day_morning_800)\n",
        "\n",
        "for numero_linha_morning_800, texto_linha_morning_800 in enumerate(time_period_day_morning_800_data['Time']):\n",
        "  tempo_morning_800 = time_period_day_morning_800_data['Time'].iloc[numero_linha_morning_800]\n",
        "  timestamp_morning_800 = datetime.datetime.strptime(tempo_morning_800, '%d-%m-%Y %H:%M')\n",
        "  time_period_day_morning_800_data['Time'][numero_linha_morning_800] = timestamp_morning_800.strftime('2021-01-01 %H:%M')\n",
        "\n",
        "morning_count_800 = '''select Time, count(Time) as Purchases\n",
        "              from\n",
        "                time_period_day_morning_800_data\n",
        "              where\n",
        "                Time >= '2021-01-01 08:00:00' and Time < '2021-01-01 08:30:00'\n",
        "              '''\n",
        "\n",
        "morning_count_800_data_1 = ps.sqldf(morning_count_800)\n",
        "\n",
        "time_data_morning_count_800 = ['08:00 - 08:30']\n",
        "\n",
        "morning_count_800_data = pd.DataFrame({'Time': time_data_morning_count_800,\n",
        "                                  'Purchases': morning_count_800_data_1['Purchases']})\n",
        "\n",
        "morning_800_dataframe = morning_count_800_data"
      ],
      "metadata": {
        "id": "HEF1JkS-8VnR"
      },
      "execution_count": 18,
      "outputs": []
    },
    {
      "cell_type": "markdown",
      "source": [
        "##### From 8:30 to 9:00"
      ],
      "metadata": {
        "id": "4bRU_kQ56pyK"
      }
    },
    {
      "cell_type": "code",
      "source": [
        "time_period_day_morning_830 = '''select date_time as Time, period_day as 'Day Period'\n",
        "              from\n",
        "                data\n",
        "              where\n",
        "                period_day = 'morning'\n",
        "              '''\n",
        "\n",
        "time_period_day_morning_830_data = ps.sqldf(time_period_day_morning_830)\n",
        "\n",
        "for numero_linha_morning_830, texto_linha_morning_830 in enumerate(time_period_day_morning_830_data['Time']):\n",
        "  tempo_morning_830 = time_period_day_morning_830_data['Time'].iloc[numero_linha_morning_830]\n",
        "  timestamp_morning_830 = datetime.datetime.strptime(tempo_morning_830, '%d-%m-%Y %H:%M')\n",
        "  time_period_day_morning_830_data['Time'][numero_linha_morning_830] = timestamp_morning_830.strftime('2021-01-01 %H:%M')\n",
        "\n",
        "morning_count_830 = '''select Time, count(Time) as Purchases\n",
        "              from\n",
        "                time_period_day_morning_830_data\n",
        "              where\n",
        "                Time >= '2021-01-01 08:30:00' and Time < '2021-01-01 09:00:00'\n",
        "              '''\n",
        "\n",
        "morning_count_830_data_1 = ps.sqldf(morning_count_830)\n",
        "\n",
        "time_data_morning_count_830 = ['08:30 - 09:00']\n",
        "\n",
        "morning_count_830_data = pd.DataFrame({'Time': time_data_morning_count_830,\n",
        "                                  'Purchases': morning_count_830_data_1['Purchases']})\n",
        "\n",
        "morning_830_dataframe = morning_count_830_data"
      ],
      "metadata": {
        "id": "kfwmY0Bx8rDn"
      },
      "execution_count": 19,
      "outputs": []
    },
    {
      "cell_type": "markdown",
      "source": [
        "##### From 9:00 to 9:30"
      ],
      "metadata": {
        "id": "nxjYb8dI6uki"
      }
    },
    {
      "cell_type": "code",
      "source": [
        "time_period_day_morning_900 = '''select date_time as Time, period_day as 'Day Period'\n",
        "              from\n",
        "                data\n",
        "              where\n",
        "                period_day = 'morning'\n",
        "              '''\n",
        "\n",
        "time_period_day_morning_900_data = ps.sqldf(time_period_day_morning_900)\n",
        "\n",
        "for numero_linha_morning_900, texto_linha_morning_900 in enumerate(time_period_day_morning_900_data['Time']):\n",
        "  tempo_morning_900 = time_period_day_morning_900_data['Time'].iloc[numero_linha_morning_900]\n",
        "  timestamp_morning_900 = datetime.datetime.strptime(tempo_morning_900, '%d-%m-%Y %H:%M')\n",
        "  time_period_day_morning_900_data['Time'][numero_linha_morning_900] = timestamp_morning_900.strftime('2021-01-01 %H:%M')\n",
        "\n",
        "morning_count_900 = '''select Time, count(Time) as Purchases\n",
        "              from\n",
        "                time_period_day_morning_900_data\n",
        "              where\n",
        "                Time >= '2021-01-01 09:00:00' and Time < '2021-01-01 09:30:00'\n",
        "              '''\n",
        "\n",
        "morning_count_900_data_1 = ps.sqldf(morning_count_900)\n",
        "\n",
        "time_data_morning_count_900 = ['09:00 - 09:30']\n",
        "\n",
        "morning_count_900_data = pd.DataFrame({'Time': time_data_morning_count_900,\n",
        "                                  'Purchases': morning_count_900_data_1['Purchases']})\n",
        "\n",
        "morning_900_dataframe = morning_count_900_data"
      ],
      "metadata": {
        "id": "1RSNs_KJ9NJN"
      },
      "execution_count": 20,
      "outputs": []
    },
    {
      "cell_type": "markdown",
      "source": [
        "##### From 9:30 to 10:00"
      ],
      "metadata": {
        "id": "slZqwBWP6x9q"
      }
    },
    {
      "cell_type": "code",
      "source": [
        "time_period_day_morning_930 = '''select date_time as Time, period_day as 'Day Period'\n",
        "              from\n",
        "                data\n",
        "              where\n",
        "                period_day = 'morning'\n",
        "              '''\n",
        "\n",
        "time_period_day_morning_930_data = ps.sqldf(time_period_day_morning_930)\n",
        "\n",
        "for numero_linha_morning_930, texto_linha_morning_930 in enumerate(time_period_day_morning_930_data['Time']):\n",
        "  tempo_morning_930 = time_period_day_morning_930_data['Time'].iloc[numero_linha_morning_930]\n",
        "  timestamp_morning_930 = datetime.datetime.strptime(tempo_morning_930, '%d-%m-%Y %H:%M')\n",
        "  time_period_day_morning_930_data['Time'][numero_linha_morning_930] = timestamp_morning_930.strftime('2021-01-01 %H:%M')\n",
        "\n",
        "morning_count_930 = '''select Time, count(Time) as Purchases\n",
        "              from\n",
        "                time_period_day_morning_930_data\n",
        "              where\n",
        "                Time >= '2021-01-01 09:30:00' and Time < '2021-01-01 10:00:00'\n",
        "              '''\n",
        "\n",
        "morning_count_930_data_1 = ps.sqldf(morning_count_930)\n",
        "\n",
        "time_data_morning_count_930 = ['09:30 - 10:00']\n",
        "\n",
        "morning_count_930_data = pd.DataFrame({'Time': time_data_morning_count_930,\n",
        "                                  'Purchases': morning_count_930_data_1['Purchases']})\n",
        "\n",
        "morning_930_dataframe = morning_count_930_data"
      ],
      "metadata": {
        "id": "FM8aSLFN9jde"
      },
      "execution_count": 21,
      "outputs": []
    },
    {
      "cell_type": "markdown",
      "source": [
        "##### From 10:00 to 10:30"
      ],
      "metadata": {
        "id": "OIBzu4_Q60WC"
      }
    },
    {
      "cell_type": "code",
      "source": [
        "time_period_day_morning_1000 = '''select date_time as Time, period_day as 'Day Period'\n",
        "              from\n",
        "                data\n",
        "              where\n",
        "                period_day = 'morning'\n",
        "              '''\n",
        "\n",
        "time_period_day_morning_1000_data = ps.sqldf(time_period_day_morning_1000)\n",
        "\n",
        "for numero_linha_morning_1000, texto_linha_morning_100 in enumerate(time_period_day_morning_1000_data['Time']):\n",
        "  tempo_morning_1000 = time_period_day_morning_1000_data['Time'].iloc[numero_linha_morning_1000]\n",
        "  timestamp_morning_1000 = datetime.datetime.strptime(tempo_morning_1000, '%d-%m-%Y %H:%M')\n",
        "  time_period_day_morning_1000_data['Time'][numero_linha_morning_1000] = timestamp_morning_1000.strftime('2021-01-01 %H:%M')\n",
        "\n",
        "morning_count_1000 = '''select Time, count(Time) as Purchases\n",
        "              from\n",
        "                time_period_day_morning_1000_data\n",
        "              where\n",
        "                Time >= '2021-01-01 10:00:00' and Time < '2021-01-01 10:30:00'\n",
        "              '''\n",
        "\n",
        "morning_count_1000_data_1 = ps.sqldf(morning_count_1000)\n",
        "\n",
        "time_data_morning_count_1000 = ['10:00 - 10:30']\n",
        "\n",
        "morning_count_1000_data = pd.DataFrame({'Time': time_data_morning_count_1000,\n",
        "                                  'Purchases': morning_count_1000_data_1['Purchases']})\n",
        "\n",
        "morning_1000_dataframe = morning_count_1000_data"
      ],
      "metadata": {
        "id": "bPoIN9l49_yz"
      },
      "execution_count": 22,
      "outputs": []
    },
    {
      "cell_type": "markdown",
      "source": [
        "##### From 10:30 to 11:00"
      ],
      "metadata": {
        "id": "oX0O24WH63CM"
      }
    },
    {
      "cell_type": "code",
      "source": [
        "time_period_day_morning_1030 = '''select date_time as Time, period_day as 'Day Period'\n",
        "              from\n",
        "                data\n",
        "              where\n",
        "                period_day = 'morning'\n",
        "              '''\n",
        "\n",
        "time_period_day_morning_1030_data = ps.sqldf(time_period_day_morning_1030)\n",
        "\n",
        "for numero_linha_morning_1030, texto_linha_morning_1030 in enumerate(time_period_day_morning_1030_data['Time']):\n",
        "  tempo_morning_1030 = time_period_day_morning_1030_data['Time'].iloc[numero_linha_morning_1030]\n",
        "  timestamp_morning_1030 = datetime.datetime.strptime(tempo_morning_1030, '%d-%m-%Y %H:%M')\n",
        "  time_period_day_morning_1030_data['Time'][numero_linha_morning_1030] = timestamp_morning_1030.strftime('2021-01-01 %H:%M')\n",
        "\n",
        "morning_count_1030 = '''select Time, count(Time) as Purchases\n",
        "              from\n",
        "                time_period_day_morning_1030_data\n",
        "              where\n",
        "                Time >= '2021-01-01 10:30:00' and Time < '2021-01-01 11:00:00'\n",
        "              '''\n",
        "\n",
        "morning_count_1030_data_1 = ps.sqldf(morning_count_1030)\n",
        "\n",
        "time_data_morning_count_1030 = ['10:30 - 11:00']\n",
        "\n",
        "morning_count_1030_data = pd.DataFrame({'Time': time_data_morning_count_1030,\n",
        "                                  'Purchases': morning_count_1030_data_1['Purchases']})\n",
        "\n",
        "morning_1030_dataframe = morning_count_1030_data"
      ],
      "metadata": {
        "id": "MxK-LU_W-Zwb"
      },
      "execution_count": 23,
      "outputs": []
    },
    {
      "cell_type": "markdown",
      "source": [
        "##### From 11:00 to 11:30"
      ],
      "metadata": {
        "id": "fCeI-DFz65yc"
      }
    },
    {
      "cell_type": "code",
      "source": [
        "time_period_day_morning_1100 = '''select date_time as Time, period_day as 'Day Period'\n",
        "              from\n",
        "                data\n",
        "              where\n",
        "                period_day = 'morning'\n",
        "              '''\n",
        "\n",
        "time_period_day_morning_1100_data = ps.sqldf(time_period_day_morning_1100)\n",
        "\n",
        "for numero_linha_morning_1100, texto_linha_morning_1100 in enumerate(time_period_day_morning_1100_data['Time']):\n",
        "  tempo_morning_1100 = time_period_day_morning_1100_data['Time'].iloc[numero_linha_morning_1100]\n",
        "  timestamp_morning_1100 = datetime.datetime.strptime(tempo_morning_1100, '%d-%m-%Y %H:%M')\n",
        "  time_period_day_morning_1100_data['Time'][numero_linha_morning_1100] = timestamp_morning_1100.strftime('2021-01-01 %H:%M')\n",
        "\n",
        "morning_count_1100 = '''select Time, count(Time) as Purchases\n",
        "              from\n",
        "                time_period_day_morning_1100_data\n",
        "              where\n",
        "                Time >= '2021-01-01 11:00:00' and Time < '2021-01-01 11:30:00'\n",
        "              '''\n",
        "\n",
        "morning_count_1100_data_1 = ps.sqldf(morning_count_1100)\n",
        "\n",
        "time_data_morning_count_1100 = ['11:00 - 11:30']\n",
        "\n",
        "morning_count_1100_data = pd.DataFrame({'Time': time_data_morning_count_1100,\n",
        "                                  'Purchases': morning_count_1100_data_1['Purchases']})\n",
        "\n",
        "morning_1100_dataframe = morning_count_1100_data"
      ],
      "metadata": {
        "id": "SC31Hpg9-tLF"
      },
      "execution_count": 24,
      "outputs": []
    },
    {
      "cell_type": "markdown",
      "source": [
        "##### From 11:30 to 12:00"
      ],
      "metadata": {
        "id": "rTJNavKn68-C"
      }
    },
    {
      "cell_type": "code",
      "source": [
        "time_period_day_morning_1130 = '''select date_time as Time, period_day as 'Day Period'\n",
        "              from\n",
        "                data\n",
        "              where\n",
        "                period_day = 'morning'\n",
        "              '''\n",
        "\n",
        "time_period_day_morning_1130_data = ps.sqldf(time_period_day_morning_1130)\n",
        "\n",
        "for numero_linha_morning_1130, texto_linha_morning_1130 in enumerate(time_period_day_morning_1130_data['Time']):\n",
        "  tempo_morning_1130 = time_period_day_morning_1130_data['Time'].iloc[numero_linha_morning_1130]\n",
        "  timestamp_morning_1130 = datetime.datetime.strptime(tempo_morning_1130, '%d-%m-%Y %H:%M')\n",
        "  time_period_day_morning_1130_data['Time'][numero_linha_morning_1130] = timestamp_morning_1130.strftime('2021-01-01 %H:%M')\n",
        "\n",
        "morning_count_1130 = '''select Time, count(Time) as Purchases\n",
        "              from\n",
        "                time_period_day_morning_1130_data\n",
        "              where\n",
        "                Time >= '2021-01-01 11:00:00' and Time < '2021-01-01 11:30:00'\n",
        "              '''\n",
        "\n",
        "morning_count_1130_data_1 = ps.sqldf(morning_count_1130)\n",
        "\n",
        "time_data_morning_count_1130 = ['11:30 - 12:00']\n",
        "\n",
        "morning_count_1130_data = pd.DataFrame({'Time': time_data_morning_count_1130,\n",
        "                                  'Purchases': morning_count_1130_data_1['Purchases']})\n",
        "\n",
        "morning_1130_dataframe = morning_count_1130_data"
      ],
      "metadata": {
        "id": "7Fnttu_J_eYL"
      },
      "execution_count": 25,
      "outputs": []
    },
    {
      "cell_type": "markdown",
      "source": [
        "##### Total Morning"
      ],
      "metadata": {
        "id": "lKhenZnf_4_D"
      }
    },
    {
      "cell_type": "code",
      "source": [
        "morning_data = pd.DataFrame({'Time': [morning_730_dataframe.iloc[0][0],\n",
        "                                    morning_800_dataframe.iloc[0][0],\n",
        "                                    morning_830_dataframe.iloc[0][0],\n",
        "                                    morning_900_dataframe.iloc[0][0],\n",
        "                                    morning_930_dataframe.iloc[0][0],\n",
        "                                    morning_1000_dataframe.iloc[0][0],\n",
        "                                    morning_1030_dataframe.iloc[0][0],\n",
        "                                    morning_1100_dataframe.iloc[0][0],\n",
        "                                    morning_1130_dataframe.iloc[0][0]],\n",
        "                           'Purchases': [morning_730_dataframe.iloc[0][1],\n",
        "                                         morning_800_dataframe.iloc[0][1],\n",
        "                                         morning_830_dataframe.iloc[0][1],\n",
        "                                         morning_900_dataframe.iloc[0][1],\n",
        "                                         morning_930_dataframe.iloc[0][1],\n",
        "                                         morning_1000_dataframe.iloc[0][1],\n",
        "                                         morning_1030_dataframe.iloc[0][1],\n",
        "                                         morning_1100_dataframe.iloc[0][1],\n",
        "                                         morning_1130_dataframe.iloc[0][1]]})"
      ],
      "metadata": {
        "id": "osUeF-uu_314"
      },
      "execution_count": 26,
      "outputs": []
    },
    {
      "cell_type": "markdown",
      "source": [
        "#### Total Purchases Over Afternoon"
      ],
      "metadata": {
        "id": "HN0SV2bM5dxE"
      }
    },
    {
      "cell_type": "code",
      "source": [
        "time_period_day_afternoon = '''select date_time as Time, period_day as 'Day Period'\n",
        "              from\n",
        "                data\n",
        "              where\n",
        "                period_day = 'afternoon'\n",
        "              '''\n",
        "\n",
        "time_period_day_afternoon_data = ps.sqldf(time_period_day_afternoon)\n",
        "\n",
        "for numero_linha_1, texto_linha_1 in enumerate(time_period_day_afternoon_data['Time']):\n",
        "  tempo_1 = time_period_day_afternoon_data['Time'].iloc[numero_linha_1]\n",
        "  timestamp_1 = datetime.datetime.strptime(tempo_1, '%d-%m-%Y %H:%M')\n",
        "  time_period_day_afternoon_data['Time'][numero_linha_1] = timestamp_1.strftime('2021-01-01 %H:%M')\n",
        "\n",
        "afternoon_count = '''select Time, count(Time) as Purchases\n",
        "              from\n",
        "                time_period_day_afternoon_data\n",
        "              group by\n",
        "                Time\n",
        "              '''\n",
        "\n",
        "afternoon_count_data_1 = ps.sqldf(afternoon_count)\n",
        "\n",
        "afternoon_count_data_2 = pd.to_datetime(afternoon_count_data_1['Time'])\n",
        "\n",
        "time_data_afternoon = []\n",
        "\n",
        "for numero_linha_time_1, valor_linha_time_1 in enumerate(afternoon_count_data_2):\n",
        "  time_data_afternoon.append(afternoon_count_data_2[numero_linha_time_1])\n",
        "\n",
        "afternoon_count_data = pd.DataFrame({'Time': time_data_afternoon,\n",
        "                                  'Purchases': afternoon_count_data_1['Purchases']})\n",
        "\n",
        "afternoon_dataframe = afternoon_count_data"
      ],
      "metadata": {
        "id": "oTKpzxBkJ7TS"
      },
      "execution_count": 27,
      "outputs": []
    },
    {
      "cell_type": "markdown",
      "source": [
        "##### From 12:00 to 12:30"
      ],
      "metadata": {
        "id": "9AmeAUqTQfCt"
      }
    },
    {
      "cell_type": "code",
      "source": [
        "time_period_day_afternoon_1200 = '''select date_time as Time, period_day as 'Day Period'\n",
        "              from\n",
        "                data\n",
        "              where\n",
        "                period_day = 'afternoon'\n",
        "              '''\n",
        "\n",
        "time_period_day_afternoon_1200_data = ps.sqldf(time_period_day_afternoon_1200)\n",
        "\n",
        "for numero_linha_afternoon_1200, texto_linha_afternoon_1200 in enumerate(time_period_day_afternoon_1200_data['Time']):\n",
        "  tempo_afternoon_1200 = time_period_day_afternoon_1200_data['Time'].iloc[numero_linha_afternoon_1200]\n",
        "  timestamp_afternoon_1200 = datetime.datetime.strptime(tempo_afternoon_1200, '%d-%m-%Y %H:%M')\n",
        "  time_period_day_afternoon_1200_data['Time'][numero_linha_afternoon_1200] = timestamp_afternoon_1200.strftime('2021-01-01 %H:%M')\n",
        "\n",
        "afternoon_count_1200 = '''select Time, count(Time) as Purchases\n",
        "              from\n",
        "                time_period_day_afternoon_1200_data\n",
        "              where\n",
        "                Time >= '2021-01-01 12:00:00' and Time < '2021-01-01 12:30:00'\n",
        "              '''\n",
        "\n",
        "afternoon_count_1200_data_1 = ps.sqldf(afternoon_count_1200)\n",
        "\n",
        "time_data_afternoon_count_1200 = ['12:00 - 12:30']\n",
        "\n",
        "afternoon_count_1200_data = pd.DataFrame({'Time': time_data_afternoon_count_1200,\n",
        "                                  'Purchases': afternoon_count_1200_data_1['Purchases']})\n",
        "\n",
        "afternoon_1200_dataframe = afternoon_count_1200_data"
      ],
      "metadata": {
        "id": "FNxr7cP8RFDX"
      },
      "execution_count": 28,
      "outputs": []
    },
    {
      "cell_type": "markdown",
      "source": [
        "##### From 12:30 to 13:00"
      ],
      "metadata": {
        "id": "HN3USFBFQp2c"
      }
    },
    {
      "cell_type": "code",
      "source": [
        "time_period_day_afternoon_1230 = '''select date_time as Time, period_day as 'Day Period'\n",
        "              from\n",
        "                data\n",
        "              where\n",
        "                period_day = 'afternoon'\n",
        "              '''\n",
        "\n",
        "time_period_day_afternoon_1230_data = ps.sqldf(time_period_day_afternoon_1230)\n",
        "\n",
        "for numero_linha_afternoon_1230, texto_linha_afternoon_1230 in enumerate(time_period_day_afternoon_1230_data['Time']):\n",
        "  tempo_afternoon_1230 = time_period_day_afternoon_1230_data['Time'].iloc[numero_linha_afternoon_1230]\n",
        "  timestamp_afternoon_1230 = datetime.datetime.strptime(tempo_afternoon_1230, '%d-%m-%Y %H:%M')\n",
        "  time_period_day_afternoon_1230_data['Time'][numero_linha_afternoon_1230] = timestamp_afternoon_1230.strftime('2021-01-01 %H:%M')\n",
        "\n",
        "afternoon_count_1230 = '''select Time, count(Time) as Purchases\n",
        "              from\n",
        "                time_period_day_afternoon_1230_data\n",
        "              where\n",
        "                Time >= '2021-01-01 12:30:00' and Time < '2021-01-01 13:00:00'\n",
        "              '''\n",
        "\n",
        "afternoon_count_1230_data_1 = ps.sqldf(afternoon_count_1230)\n",
        "\n",
        "time_data_afternoon_count_1230 = ['12:30 - 13:00']\n",
        "\n",
        "afternoon_count_1230_data = pd.DataFrame({'Time': time_data_afternoon_count_1230,\n",
        "                                  'Purchases': afternoon_count_1230_data_1['Purchases']})\n",
        "\n",
        "afternoon_1230_dataframe = afternoon_count_1230_data"
      ],
      "metadata": {
        "id": "g_Q54B2yRs4e"
      },
      "execution_count": 29,
      "outputs": []
    },
    {
      "cell_type": "markdown",
      "source": [
        "##### From 13:00 to 13:30"
      ],
      "metadata": {
        "id": "sFzqLIYHQsEQ"
      }
    },
    {
      "cell_type": "code",
      "source": [
        "time_period_day_afternoon_1300 = '''select date_time as Time, period_day as 'Day Period'\n",
        "              from\n",
        "                data\n",
        "              where\n",
        "                period_day = 'afternoon'\n",
        "              '''\n",
        "\n",
        "time_period_day_afternoon_1300_data = ps.sqldf(time_period_day_afternoon_1300)\n",
        "\n",
        "for numero_linha_afternoon_1300, texto_linha_afternoon_1300 in enumerate(time_period_day_afternoon_1300_data['Time']):\n",
        "  tempo_afternoon_1300 = time_period_day_afternoon_1300_data['Time'].iloc[numero_linha_afternoon_1300]\n",
        "  timestamp_afternoon_1300 = datetime.datetime.strptime(tempo_afternoon_1300, '%d-%m-%Y %H:%M')\n",
        "  time_period_day_afternoon_1300_data['Time'][numero_linha_afternoon_1300] = timestamp_afternoon_1300.strftime('2021-01-01 %H:%M')\n",
        "\n",
        "afternoon_count_1300 = '''select Time, count(Time) as Purchases\n",
        "              from\n",
        "                time_period_day_afternoon_1300_data\n",
        "              where\n",
        "                Time >= '2021-01-01 13:00:00' and Time < '2021-01-01 13:30:00'\n",
        "              '''\n",
        "\n",
        "afternoon_count_1300_data_1 = ps.sqldf(afternoon_count_1300)\n",
        "\n",
        "time_data_afternoon_count_1300 = ['13:00 - 13:30']\n",
        "\n",
        "afternoon_count_1300_data = pd.DataFrame({'Time': time_data_afternoon_count_1300,\n",
        "                                  'Purchases': afternoon_count_1300_data_1['Purchases']})\n",
        "\n",
        "afternoon_1300_dataframe = afternoon_count_1300_data"
      ],
      "metadata": {
        "id": "HlBrYAG0SH3N"
      },
      "execution_count": 30,
      "outputs": []
    },
    {
      "cell_type": "markdown",
      "source": [
        "##### From 13:30 to 14:00"
      ],
      "metadata": {
        "id": "P8AStaqyQt4X"
      }
    },
    {
      "cell_type": "code",
      "source": [
        "time_period_day_afternoon_1330 = '''select date_time as Time, period_day as 'Day Period'\n",
        "              from\n",
        "                data\n",
        "              where\n",
        "                period_day = 'afternoon'\n",
        "              '''\n",
        "\n",
        "time_period_day_afternoon_1330_data = ps.sqldf(time_period_day_afternoon_1330)\n",
        "\n",
        "for numero_linha_afternoon_1330, texto_linha_afternoon_1330 in enumerate(time_period_day_afternoon_1330_data['Time']):\n",
        "  tempo_afternoon_1330 = time_period_day_afternoon_1330_data['Time'].iloc[numero_linha_afternoon_1330]\n",
        "  timestamp_afternoon_1330 = datetime.datetime.strptime(tempo_afternoon_1330, '%d-%m-%Y %H:%M')\n",
        "  time_period_day_afternoon_1330_data['Time'][numero_linha_afternoon_1330] = timestamp_afternoon_1330.strftime('2021-01-01 %H:%M')\n",
        "\n",
        "afternoon_count_1330 = '''select Time, count(Time) as Purchases\n",
        "              from\n",
        "                time_period_day_afternoon_1330_data\n",
        "              where\n",
        "                Time >= '2021-01-01 13:30:00' and Time < '2021-01-01 14:00:00'\n",
        "              '''\n",
        "\n",
        "afternoon_count_1330_data_1 = ps.sqldf(afternoon_count_1330)\n",
        "\n",
        "time_data_afternoon_count_1330 = ['13:30 - 14:00']\n",
        "\n",
        "afternoon_count_1330_data = pd.DataFrame({'Time': time_data_afternoon_count_1330,\n",
        "                                  'Purchases': afternoon_count_1330_data_1['Purchases']})\n",
        "\n",
        "afternoon_1330_dataframe = afternoon_count_1330_data"
      ],
      "metadata": {
        "id": "hVcWHEkxSd3G"
      },
      "execution_count": 31,
      "outputs": []
    },
    {
      "cell_type": "markdown",
      "source": [
        "##### From 14:00 to 14:30"
      ],
      "metadata": {
        "id": "ZzfKaSf_QyU8"
      }
    },
    {
      "cell_type": "code",
      "source": [
        "time_period_day_afternoon_1400 = '''select date_time as Time, period_day as 'Day Period'\n",
        "              from\n",
        "                data\n",
        "              where\n",
        "                period_day = 'afternoon'\n",
        "              '''\n",
        "\n",
        "time_period_day_afternoon_1400_data = ps.sqldf(time_period_day_afternoon_1400)\n",
        "\n",
        "for numero_linha_afternoon_1400, texto_linha_afternoon_1400 in enumerate(time_period_day_afternoon_1400_data['Time']):\n",
        "  tempo_afternoon_1400 = time_period_day_afternoon_1400_data['Time'].iloc[numero_linha_afternoon_1400]\n",
        "  timestamp_afternoon_1400 = datetime.datetime.strptime(tempo_afternoon_1400, '%d-%m-%Y %H:%M')\n",
        "  time_period_day_afternoon_1400_data['Time'][numero_linha_afternoon_1400] = timestamp_afternoon_1400.strftime('2021-01-01 %H:%M')\n",
        "\n",
        "afternoon_count_1400 = '''select Time, count(Time) as Purchases\n",
        "              from\n",
        "                time_period_day_afternoon_1400_data\n",
        "              where\n",
        "                Time >= '2021-01-01 14:00:00' and Time < '2021-01-01 14:30:00'\n",
        "              '''\n",
        "\n",
        "afternoon_count_1400_data_1 = ps.sqldf(afternoon_count_1400)\n",
        "\n",
        "time_data_afternoon_count_1400 = ['14:00 - 14:30']\n",
        "\n",
        "afternoon_count_1400_data = pd.DataFrame({'Time': time_data_afternoon_count_1400,\n",
        "                                  'Purchases': afternoon_count_1400_data_1['Purchases']})\n",
        "\n",
        "afternoon_1400_dataframe = afternoon_count_1400_data"
      ],
      "metadata": {
        "id": "MiazhgPWS4Lt"
      },
      "execution_count": 32,
      "outputs": []
    },
    {
      "cell_type": "markdown",
      "source": [
        "##### From 14:30 to 15:00"
      ],
      "metadata": {
        "id": "gj8eDt8MQ0Pl"
      }
    },
    {
      "cell_type": "code",
      "source": [
        "time_period_day_afternoon_1430 = '''select date_time as Time, period_day as 'Day Period'\n",
        "              from\n",
        "                data\n",
        "              where\n",
        "                period_day = 'afternoon'\n",
        "              '''\n",
        "\n",
        "time_period_day_afternoon_1430_data = ps.sqldf(time_period_day_afternoon_1430)\n",
        "\n",
        "for numero_linha_afternoon_1430, texto_linha_afternoon_1430 in enumerate(time_period_day_afternoon_1430_data['Time']):\n",
        "  tempo_afternoon_1430 = time_period_day_afternoon_1430_data['Time'].iloc[numero_linha_afternoon_1430]\n",
        "  timestamp_afternoon_1430 = datetime.datetime.strptime(tempo_afternoon_1430, '%d-%m-%Y %H:%M')\n",
        "  time_period_day_afternoon_1430_data['Time'][numero_linha_afternoon_1430] = timestamp_afternoon_1430.strftime('2021-01-01 %H:%M')\n",
        "\n",
        "afternoon_count_1430 = '''select Time, count(Time) as Purchases\n",
        "              from\n",
        "                time_period_day_afternoon_1430_data\n",
        "              where\n",
        "                Time >= '2021-01-01 14:30:00' and Time < '2021-01-01 15:00:00'\n",
        "              '''\n",
        "\n",
        "afternoon_count_1430_data_1 = ps.sqldf(afternoon_count_1430)\n",
        "\n",
        "time_data_afternoon_count_1430 = ['14:30 - 15:00']\n",
        "\n",
        "afternoon_count_1430_data = pd.DataFrame({'Time': time_data_afternoon_count_1430,\n",
        "                                  'Purchases': afternoon_count_1430_data_1['Purchases']})\n",
        "\n",
        "afternoon_1430_dataframe = afternoon_count_1430_data"
      ],
      "metadata": {
        "id": "NaNzNXpwTfIN"
      },
      "execution_count": 33,
      "outputs": []
    },
    {
      "cell_type": "markdown",
      "source": [
        "##### From 15:00 to 15:30"
      ],
      "metadata": {
        "id": "MQcCJGKHQ2SN"
      }
    },
    {
      "cell_type": "code",
      "source": [
        "time_period_day_afternoon_1500 = '''select date_time as Time, period_day as 'Day Period'\n",
        "              from\n",
        "                data\n",
        "              where\n",
        "                period_day = 'afternoon'\n",
        "              '''\n",
        "\n",
        "time_period_day_afternoon_1500_data = ps.sqldf(time_period_day_afternoon_1500)\n",
        "\n",
        "for numero_linha_afternoon_1500, texto_linha_afternoon_1500 in enumerate(time_period_day_afternoon_1500_data['Time']):\n",
        "  tempo_afternoon_1500 = time_period_day_afternoon_1500_data['Time'].iloc[numero_linha_afternoon_1500]\n",
        "  timestamp_afternoon_1500 = datetime.datetime.strptime(tempo_afternoon_1500, '%d-%m-%Y %H:%M')\n",
        "  time_period_day_afternoon_1500_data['Time'][numero_linha_afternoon_1500] = timestamp_afternoon_1500.strftime('2021-01-01 %H:%M')\n",
        "\n",
        "afternoon_count_1500 = '''select Time, count(Time) as Purchases\n",
        "              from\n",
        "                time_period_day_afternoon_1500_data\n",
        "              where\n",
        "                Time >= '2021-01-01 15:00:00' and Time < '2021-01-01 15:30:00'\n",
        "              '''\n",
        "\n",
        "afternoon_count_1500_data_1 = ps.sqldf(afternoon_count_1500)\n",
        "\n",
        "time_data_afternoon_count_1500 = ['15:00 - 15:30']\n",
        "\n",
        "afternoon_count_1500_data = pd.DataFrame({'Time': time_data_afternoon_count_1500,\n",
        "                                  'Purchases': afternoon_count_1500_data_1['Purchases']})\n",
        "\n",
        "afternoon_1500_dataframe = afternoon_count_1500_data"
      ],
      "metadata": {
        "id": "1f1V8nOtTyVX"
      },
      "execution_count": 34,
      "outputs": []
    },
    {
      "cell_type": "markdown",
      "source": [
        "##### From 15:30 to 16:00"
      ],
      "metadata": {
        "id": "_lOLokIyQ4o9"
      }
    },
    {
      "cell_type": "code",
      "source": [
        "time_period_day_afternoon_1530 = '''select date_time as Time, period_day as 'Day Period'\n",
        "              from\n",
        "                data\n",
        "              where\n",
        "                period_day = 'afternoon'\n",
        "              '''\n",
        "\n",
        "time_period_day_afternoon_1530_data = ps.sqldf(time_period_day_afternoon_1530)\n",
        "\n",
        "for numero_linha_afternoon_1530, texto_linha_afternoon_1530 in enumerate(time_period_day_afternoon_1530_data['Time']):\n",
        "  tempo_afternoon_1530 = time_period_day_afternoon_1530_data['Time'].iloc[numero_linha_afternoon_1530]\n",
        "  timestamp_afternoon_1530 = datetime.datetime.strptime(tempo_afternoon_1530, '%d-%m-%Y %H:%M')\n",
        "  time_period_day_afternoon_1530_data['Time'][numero_linha_afternoon_1530] = timestamp_afternoon_1530.strftime('2021-01-01 %H:%M')\n",
        "\n",
        "afternoon_count_1530 = '''select Time, count(Time) as Purchases\n",
        "              from\n",
        "                time_period_day_afternoon_1530_data\n",
        "              where\n",
        "                Time >= '2021-01-01 15:30:00' and Time < '2021-01-01 16:00:00'\n",
        "              '''\n",
        "\n",
        "afternoon_count_1530_data_1 = ps.sqldf(afternoon_count_1530)\n",
        "\n",
        "time_data_afternoon_count_1530 = ['15:30 - 16:00']\n",
        "\n",
        "afternoon_count_1530_data = pd.DataFrame({'Time': time_data_afternoon_count_1530,\n",
        "                                  'Purchases': afternoon_count_1530_data_1['Purchases']})\n",
        "\n",
        "afternoon_1530_dataframe = afternoon_count_1530_data"
      ],
      "metadata": {
        "id": "o9FQ4IxlUHwv"
      },
      "execution_count": 35,
      "outputs": []
    },
    {
      "cell_type": "markdown",
      "source": [
        "##### From 16:00 to 16:30"
      ],
      "metadata": {
        "id": "QD0keL1uQ7El"
      }
    },
    {
      "cell_type": "code",
      "source": [
        "time_period_day_afternoon_1600 = '''select date_time as Time, period_day as 'Day Period'\n",
        "              from\n",
        "                data\n",
        "              where\n",
        "                period_day = 'afternoon'\n",
        "              '''\n",
        "\n",
        "time_period_day_afternoon_1600_data = ps.sqldf(time_period_day_afternoon_1600)\n",
        "\n",
        "for numero_linha_afternoon_1600, texto_linha_afternoon_1600 in enumerate(time_period_day_afternoon_1600_data['Time']):\n",
        "  tempo_afternoon_1600 = time_period_day_afternoon_1600_data['Time'].iloc[numero_linha_afternoon_1600]\n",
        "  timestamp_afternoon_1600 = datetime.datetime.strptime(tempo_afternoon_1600, '%d-%m-%Y %H:%M')\n",
        "  time_period_day_afternoon_1600_data['Time'][numero_linha_afternoon_1600] = timestamp_afternoon_1600.strftime('2021-01-01 %H:%M')\n",
        "\n",
        "afternoon_count_1600 = '''select Time, count(Time) as Purchases\n",
        "              from\n",
        "                time_period_day_afternoon_1600_data\n",
        "              where\n",
        "                Time >= '2021-01-01 16:00:00' and Time < '2021-01-01 16:30:00'\n",
        "              '''\n",
        "\n",
        "afternoon_count_1600_data_1 = ps.sqldf(afternoon_count_1600)\n",
        "\n",
        "time_data_afternoon_count_1600 = ['16:00 - 16:30']\n",
        "\n",
        "afternoon_count_1600_data = pd.DataFrame({'Time': time_data_afternoon_count_1600,\n",
        "                                  'Purchases': afternoon_count_1600_data_1['Purchases']})\n",
        "\n",
        "afternoon_1600_dataframe = afternoon_count_1600_data"
      ],
      "metadata": {
        "id": "20oBHuMAUjpm"
      },
      "execution_count": 36,
      "outputs": []
    },
    {
      "cell_type": "markdown",
      "source": [
        "##### From 16:30 to 17:00"
      ],
      "metadata": {
        "id": "x5zSK056Q84n"
      }
    },
    {
      "cell_type": "code",
      "source": [
        "time_period_day_afternoon_1630 = '''select date_time as Time, period_day as 'Day Period'\n",
        "              from\n",
        "                data\n",
        "              where\n",
        "                period_day = 'afternoon'\n",
        "              '''\n",
        "\n",
        "time_period_day_afternoon_1630_data = ps.sqldf(time_period_day_afternoon_1630)\n",
        "\n",
        "for numero_linha_afternoon_1630, texto_linha_afternoon_1630 in enumerate(time_period_day_afternoon_1630_data['Time']):\n",
        "  tempo_afternoon_1630 = time_period_day_afternoon_1630_data['Time'].iloc[numero_linha_afternoon_1630]\n",
        "  timestamp_afternoon_1630 = datetime.datetime.strptime(tempo_afternoon_1630, '%d-%m-%Y %H:%M')\n",
        "  time_period_day_afternoon_1630_data['Time'][numero_linha_afternoon_1630] = timestamp_afternoon_1630.strftime('2021-01-01 %H:%M')\n",
        "\n",
        "afternoon_count_1630 = '''select Time, count(Time) as Purchases\n",
        "              from\n",
        "                time_period_day_afternoon_1630_data\n",
        "              where\n",
        "                Time >= '2021-01-01 16:30:00' and Time < '2021-01-01 17:00:00'\n",
        "              '''\n",
        "\n",
        "afternoon_count_1630_data_1 = ps.sqldf(afternoon_count_1630)\n",
        "\n",
        "time_data_afternoon_count_1630 = ['16:30 - 17:00']\n",
        "\n",
        "afternoon_count_1630_data = pd.DataFrame({'Time': time_data_afternoon_count_1630,\n",
        "                                  'Purchases': afternoon_count_1630_data_1['Purchases']})\n",
        "\n",
        "afternoon_1630_dataframe = afternoon_count_1630_data"
      ],
      "metadata": {
        "id": "HPWVcvdmU1-l"
      },
      "execution_count": 37,
      "outputs": []
    },
    {
      "cell_type": "markdown",
      "source": [
        "##### Total Afternoon"
      ],
      "metadata": {
        "id": "lgzoU7S3VL6E"
      }
    },
    {
      "cell_type": "code",
      "source": [
        "afternoon_data = pd.DataFrame({'Time': [afternoon_1200_dataframe.iloc[0][0],\n",
        "                                    afternoon_1230_dataframe.iloc[0][0],\n",
        "                                    afternoon_1300_dataframe.iloc[0][0],\n",
        "                                    afternoon_1330_dataframe.iloc[0][0],\n",
        "                                    afternoon_1400_dataframe.iloc[0][0],\n",
        "                                    afternoon_1430_dataframe.iloc[0][0],\n",
        "                                    afternoon_1500_dataframe.iloc[0][0],\n",
        "                                    afternoon_1530_dataframe.iloc[0][0],\n",
        "                                    afternoon_1600_dataframe.iloc[0][0],\n",
        "                                    afternoon_1630_dataframe.iloc[0][0]],\n",
        "                           'Purchases': [afternoon_1200_dataframe.iloc[0][1],\n",
        "                                         afternoon_1230_dataframe.iloc[0][1],\n",
        "                                         afternoon_1300_dataframe.iloc[0][1],\n",
        "                                         afternoon_1330_dataframe.iloc[0][1],\n",
        "                                         afternoon_1400_dataframe.iloc[0][1],\n",
        "                                         afternoon_1430_dataframe.iloc[0][1],\n",
        "                                         afternoon_1500_dataframe.iloc[0][1],\n",
        "                                         afternoon_1530_dataframe.iloc[0][1],\n",
        "                                         afternoon_1600_dataframe.iloc[0][1],\n",
        "                                         afternoon_1630_dataframe.iloc[0][1]]})"
      ],
      "metadata": {
        "id": "50KHlmWzVLqm"
      },
      "execution_count": 38,
      "outputs": []
    },
    {
      "cell_type": "markdown",
      "source": [
        "#### Graphs Code"
      ],
      "metadata": {
        "id": "xwDodeT_6Wti"
      }
    },
    {
      "cell_type": "code",
      "source": [
        "def date_time_graph(dataframe):\n",
        "  X = dataframe['Time']\n",
        "  Y = dataframe['Purchases']\n",
        "\n",
        "  plt.plot(X,Y)\n",
        "\n",
        "  plt.xticks(rotation=35, ha='center')\n",
        "\n",
        "  plt.show()"
      ],
      "metadata": {
        "id": "NnX49rntJ2WK"
      },
      "execution_count": 39,
      "outputs": []
    },
    {
      "cell_type": "code",
      "source": [
        "def date_time_product_graph(dataframe):\n",
        "  X = dataframe['Time']\n",
        "  Y = dataframe['Purchases']\n",
        "\n",
        "  plt.bar(X, Y)\n",
        "\n",
        "  plt.xticks(rotation=55, ha='center')\n",
        "\n",
        "  plt.show()"
      ],
      "metadata": {
        "id": "GpT91ZdQJ0nr"
      },
      "execution_count": 40,
      "outputs": []
    },
    {
      "cell_type": "markdown",
      "source": [
        "### Graphs and Data"
      ],
      "metadata": {
        "id": "kb87zvUJLQly"
      }
    },
    {
      "cell_type": "markdown",
      "source": [
        "#### Total Purchases Over Morning"
      ],
      "metadata": {
        "id": "E1aEZkV35mny"
      }
    },
    {
      "cell_type": "code",
      "source": [
        "morning_count_data.head(10)"
      ],
      "metadata": {
        "colab": {
          "base_uri": "https://localhost:8080/",
          "height": 363
        },
        "id": "w3nPa4t_Laf-",
        "outputId": "fec38e6f-61f0-4942-ac58-74aaed1ad24c"
      },
      "execution_count": 41,
      "outputs": [
        {
          "output_type": "execute_result",
          "data": {
            "text/plain": [
              "                 Time  Purchases\n",
              "0 2021-01-01 01:21:00          1\n",
              "1 2021-01-01 07:29:00          1\n",
              "2 2021-01-01 07:32:00          1\n",
              "3 2021-01-01 07:39:00          1\n",
              "4 2021-01-01 07:42:00          2\n",
              "5 2021-01-01 07:44:00          2\n",
              "6 2021-01-01 07:46:00          2\n",
              "7 2021-01-01 07:49:00          3\n",
              "8 2021-01-01 07:50:00          2\n",
              "9 2021-01-01 07:51:00          2"
            ],
            "text/html": [
              "\n",
              "  <div id=\"df-1a958e34-ccc0-4005-8e1a-e2fd95253b52\">\n",
              "    <div class=\"colab-df-container\">\n",
              "      <div>\n",
              "<style scoped>\n",
              "    .dataframe tbody tr th:only-of-type {\n",
              "        vertical-align: middle;\n",
              "    }\n",
              "\n",
              "    .dataframe tbody tr th {\n",
              "        vertical-align: top;\n",
              "    }\n",
              "\n",
              "    .dataframe thead th {\n",
              "        text-align: right;\n",
              "    }\n",
              "</style>\n",
              "<table border=\"1\" class=\"dataframe\">\n",
              "  <thead>\n",
              "    <tr style=\"text-align: right;\">\n",
              "      <th></th>\n",
              "      <th>Time</th>\n",
              "      <th>Purchases</th>\n",
              "    </tr>\n",
              "  </thead>\n",
              "  <tbody>\n",
              "    <tr>\n",
              "      <th>0</th>\n",
              "      <td>2021-01-01 01:21:00</td>\n",
              "      <td>1</td>\n",
              "    </tr>\n",
              "    <tr>\n",
              "      <th>1</th>\n",
              "      <td>2021-01-01 07:29:00</td>\n",
              "      <td>1</td>\n",
              "    </tr>\n",
              "    <tr>\n",
              "      <th>2</th>\n",
              "      <td>2021-01-01 07:32:00</td>\n",
              "      <td>1</td>\n",
              "    </tr>\n",
              "    <tr>\n",
              "      <th>3</th>\n",
              "      <td>2021-01-01 07:39:00</td>\n",
              "      <td>1</td>\n",
              "    </tr>\n",
              "    <tr>\n",
              "      <th>4</th>\n",
              "      <td>2021-01-01 07:42:00</td>\n",
              "      <td>2</td>\n",
              "    </tr>\n",
              "    <tr>\n",
              "      <th>5</th>\n",
              "      <td>2021-01-01 07:44:00</td>\n",
              "      <td>2</td>\n",
              "    </tr>\n",
              "    <tr>\n",
              "      <th>6</th>\n",
              "      <td>2021-01-01 07:46:00</td>\n",
              "      <td>2</td>\n",
              "    </tr>\n",
              "    <tr>\n",
              "      <th>7</th>\n",
              "      <td>2021-01-01 07:49:00</td>\n",
              "      <td>3</td>\n",
              "    </tr>\n",
              "    <tr>\n",
              "      <th>8</th>\n",
              "      <td>2021-01-01 07:50:00</td>\n",
              "      <td>2</td>\n",
              "    </tr>\n",
              "    <tr>\n",
              "      <th>9</th>\n",
              "      <td>2021-01-01 07:51:00</td>\n",
              "      <td>2</td>\n",
              "    </tr>\n",
              "  </tbody>\n",
              "</table>\n",
              "</div>\n",
              "      <button class=\"colab-df-convert\" onclick=\"convertToInteractive('df-1a958e34-ccc0-4005-8e1a-e2fd95253b52')\"\n",
              "              title=\"Convert this dataframe to an interactive table.\"\n",
              "              style=\"display:none;\">\n",
              "        \n",
              "  <svg xmlns=\"http://www.w3.org/2000/svg\" height=\"24px\"viewBox=\"0 0 24 24\"\n",
              "       width=\"24px\">\n",
              "    <path d=\"M0 0h24v24H0V0z\" fill=\"none\"/>\n",
              "    <path d=\"M18.56 5.44l.94 2.06.94-2.06 2.06-.94-2.06-.94-.94-2.06-.94 2.06-2.06.94zm-11 1L8.5 8.5l.94-2.06 2.06-.94-2.06-.94L8.5 2.5l-.94 2.06-2.06.94zm10 10l.94 2.06.94-2.06 2.06-.94-2.06-.94-.94-2.06-.94 2.06-2.06.94z\"/><path d=\"M17.41 7.96l-1.37-1.37c-.4-.4-.92-.59-1.43-.59-.52 0-1.04.2-1.43.59L10.3 9.45l-7.72 7.72c-.78.78-.78 2.05 0 2.83L4 21.41c.39.39.9.59 1.41.59.51 0 1.02-.2 1.41-.59l7.78-7.78 2.81-2.81c.8-.78.8-2.07 0-2.86zM5.41 20L4 18.59l7.72-7.72 1.47 1.35L5.41 20z\"/>\n",
              "  </svg>\n",
              "      </button>\n",
              "      \n",
              "  <style>\n",
              "    .colab-df-container {\n",
              "      display:flex;\n",
              "      flex-wrap:wrap;\n",
              "      gap: 12px;\n",
              "    }\n",
              "\n",
              "    .colab-df-convert {\n",
              "      background-color: #E8F0FE;\n",
              "      border: none;\n",
              "      border-radius: 50%;\n",
              "      cursor: pointer;\n",
              "      display: none;\n",
              "      fill: #1967D2;\n",
              "      height: 32px;\n",
              "      padding: 0 0 0 0;\n",
              "      width: 32px;\n",
              "    }\n",
              "\n",
              "    .colab-df-convert:hover {\n",
              "      background-color: #E2EBFA;\n",
              "      box-shadow: 0px 1px 2px rgba(60, 64, 67, 0.3), 0px 1px 3px 1px rgba(60, 64, 67, 0.15);\n",
              "      fill: #174EA6;\n",
              "    }\n",
              "\n",
              "    [theme=dark] .colab-df-convert {\n",
              "      background-color: #3B4455;\n",
              "      fill: #D2E3FC;\n",
              "    }\n",
              "\n",
              "    [theme=dark] .colab-df-convert:hover {\n",
              "      background-color: #434B5C;\n",
              "      box-shadow: 0px 1px 3px 1px rgba(0, 0, 0, 0.15);\n",
              "      filter: drop-shadow(0px 1px 2px rgba(0, 0, 0, 0.3));\n",
              "      fill: #FFFFFF;\n",
              "    }\n",
              "  </style>\n",
              "\n",
              "      <script>\n",
              "        const buttonEl =\n",
              "          document.querySelector('#df-1a958e34-ccc0-4005-8e1a-e2fd95253b52 button.colab-df-convert');\n",
              "        buttonEl.style.display =\n",
              "          google.colab.kernel.accessAllowed ? 'block' : 'none';\n",
              "\n",
              "        async function convertToInteractive(key) {\n",
              "          const element = document.querySelector('#df-1a958e34-ccc0-4005-8e1a-e2fd95253b52');\n",
              "          const dataTable =\n",
              "            await google.colab.kernel.invokeFunction('convertToInteractive',\n",
              "                                                     [key], {});\n",
              "          if (!dataTable) return;\n",
              "\n",
              "          const docLinkHtml = 'Like what you see? Visit the ' +\n",
              "            '<a target=\"_blank\" href=https://colab.research.google.com/notebooks/data_table.ipynb>data table notebook</a>'\n",
              "            + ' to learn more about interactive tables.';\n",
              "          element.innerHTML = '';\n",
              "          dataTable['output_type'] = 'display_data';\n",
              "          await google.colab.output.renderOutput(dataTable, element);\n",
              "          const docLink = document.createElement('div');\n",
              "          docLink.innerHTML = docLinkHtml;\n",
              "          element.appendChild(docLink);\n",
              "        }\n",
              "      </script>\n",
              "    </div>\n",
              "  </div>\n",
              "  "
            ]
          },
          "metadata": {},
          "execution_count": 41
        }
      ]
    },
    {
      "cell_type": "code",
      "source": [
        "date_time_graph(morning_dataframe)"
      ],
      "metadata": {
        "colab": {
          "base_uri": "https://localhost:8080/",
          "height": 463
        },
        "id": "85AlAfmIJLBN",
        "outputId": "b5737cdf-e246-459f-f587-badfa998573c"
      },
      "execution_count": 42,
      "outputs": [
        {
          "output_type": "display_data",
          "data": {
            "text/plain": [
              "<Figure size 640x480 with 1 Axes>"
            ],
            "image/png": "[encoded data removed]"
          },
          "metadata": {}
        }
      ]
    },
    {
      "cell_type": "code",
      "source": [
        "morning_data.head(10)"
      ],
      "metadata": {
        "colab": {
          "base_uri": "https://localhost:8080/",
          "height": 332
        },
        "id": "gPe86rTRKyVs",
        "outputId": "93f32db3-ce48-45be-ad24-053fb6b9f915"
      },
      "execution_count": 43,
      "outputs": [
        {
          "output_type": "execute_result",
          "data": {
            "text/plain": [
              "            Time  Purchases\n",
              "0  07:30 - 08:00         23\n",
              "1  08:00 - 08:30        209\n",
              "2  08:30 - 09:00        464\n",
              "3  09:00 - 09:30        932\n",
              "4  09:30 - 10:00       1036\n",
              "5  10:00 - 10:30       1208\n",
              "6  10:30 - 11:00       1489\n",
              "7  11:00 - 11:30       1567\n",
              "8  11:30 - 12:00       1567"
            ],
            "text/html": [
              "\n",
              "  <div id=\"df-079415aa-7ca4-461d-90f3-5b809df75d57\">\n",
              "    <div class=\"colab-df-container\">\n",
              "      <div>\n",
              "<style scoped>\n",
              "    .dataframe tbody tr th:only-of-type {\n",
              "        vertical-align: middle;\n",
              "    }\n",
              "\n",
              "    .dataframe tbody tr th {\n",
              "        vertical-align: top;\n",
              "    }\n",
              "\n",
              "    .dataframe thead th {\n",
              "        text-align: right;\n",
              "    }\n",
              "</style>\n",
              "<table border=\"1\" class=\"dataframe\">\n",
              "  <thead>\n",
              "    <tr style=\"text-align: right;\">\n",
              "      <th></th>\n",
              "      <th>Time</th>\n",
              "      <th>Purchases</th>\n",
              "    </tr>\n",
              "  </thead>\n",
              "  <tbody>\n",
              "    <tr>\n",
              "      <th>0</th>\n",
              "      <td>07:30 - 08:00</td>\n",
              "      <td>23</td>\n",
              "    </tr>\n",
              "    <tr>\n",
              "      <th>1</th>\n",
              "      <td>08:00 - 08:30</td>\n",
              "      <td>209</td>\n",
              "    </tr>\n",
              "    <tr>\n",
              "      <th>2</th>\n",
              "      <td>08:30 - 09:00</td>\n",
              "      <td>464</td>\n",
              "    </tr>\n",
              "    <tr>\n",
              "      <th>3</th>\n",
              "      <td>09:00 - 09:30</td>\n",
              "      <td>932</td>\n",
              "    </tr>\n",
              "    <tr>\n",
              "      <th>4</th>\n",
              "      <td>09:30 - 10:00</td>\n",
              "      <td>1036</td>\n",
              "    </tr>\n",
              "    <tr>\n",
              "      <th>5</th>\n",
              "      <td>10:00 - 10:30</td>\n",
              "      <td>1208</td>\n",
              "    </tr>\n",
              "    <tr>\n",
              "      <th>6</th>\n",
              "      <td>10:30 - 11:00</td>\n",
              "      <td>1489</td>\n",
              "    </tr>\n",
              "    <tr>\n",
              "      <th>7</th>\n",
              "      <td>11:00 - 11:30</td>\n",
              "      <td>1567</td>\n",
              "    </tr>\n",
              "    <tr>\n",
              "      <th>8</th>\n",
              "      <td>11:30 - 12:00</td>\n",
              "      <td>1567</td>\n",
              "    </tr>\n",
              "  </tbody>\n",
              "</table>\n",
              "</div>\n",
              "      <button class=\"colab-df-convert\" onclick=\"convertToInteractive('df-079415aa-7ca4-461d-90f3-5b809df75d57')\"\n",
              "              title=\"Convert this dataframe to an interactive table.\"\n",
              "              style=\"display:none;\">\n",
              "        \n",
              "  <svg xmlns=\"http://www.w3.org/2000/svg\" height=\"24px\"viewBox=\"0 0 24 24\"\n",
              "       width=\"24px\">\n",
              "    <path d=\"M0 0h24v24H0V0z\" fill=\"none\"/>\n",
              "    <path d=\"M18.56 5.44l.94 2.06.94-2.06 2.06-.94-2.06-.94-.94-2.06-.94 2.06-2.06.94zm-11 1L8.5 8.5l.94-2.06 2.06-.94-2.06-.94L8.5 2.5l-.94 2.06-2.06.94zm10 10l.94 2.06.94-2.06 2.06-.94-2.06-.94-.94-2.06-.94 2.06-2.06.94z\"/><path d=\"M17.41 7.96l-1.37-1.37c-.4-.4-.92-.59-1.43-.59-.52 0-1.04.2-1.43.59L10.3 9.45l-7.72 7.72c-.78.78-.78 2.05 0 2.83L4 21.41c.39.39.9.59 1.41.59.51 0 1.02-.2 1.41-.59l7.78-7.78 2.81-2.81c.8-.78.8-2.07 0-2.86zM5.41 20L4 18.59l7.72-7.72 1.47 1.35L5.41 20z\"/>\n",
              "  </svg>\n",
              "      </button>\n",
              "      \n",
              "  <style>\n",
              "    .colab-df-container {\n",
              "      display:flex;\n",
              "      flex-wrap:wrap;\n",
              "      gap: 12px;\n",
              "    }\n",
              "\n",
              "    .colab-df-convert {\n",
              "      background-color: #E8F0FE;\n",
              "      border: none;\n",
              "      border-radius: 50%;\n",
              "      cursor: pointer;\n",
              "      display: none;\n",
              "      fill: #1967D2;\n",
              "      height: 32px;\n",
              "      padding: 0 0 0 0;\n",
              "      width: 32px;\n",
              "    }\n",
              "\n",
              "    .colab-df-convert:hover {\n",
              "      background-color: #E2EBFA;\n",
              "      box-shadow: 0px 1px 2px rgba(60, 64, 67, 0.3), 0px 1px 3px 1px rgba(60, 64, 67, 0.15);\n",
              "      fill: #174EA6;\n",
              "    }\n",
              "\n",
              "    [theme=dark] .colab-df-convert {\n",
              "      background-color: #3B4455;\n",
              "      fill: #D2E3FC;\n",
              "    }\n",
              "\n",
              "    [theme=dark] .colab-df-convert:hover {\n",
              "      background-color: #434B5C;\n",
              "      box-shadow: 0px 1px 3px 1px rgba(0, 0, 0, 0.15);\n",
              "      filter: drop-shadow(0px 1px 2px rgba(0, 0, 0, 0.3));\n",
              "      fill: #FFFFFF;\n",
              "    }\n",
              "  </style>\n",
              "\n",
              "      <script>\n",
              "        const buttonEl =\n",
              "          document.querySelector('#df-079415aa-7ca4-461d-90f3-5b809df75d57 button.colab-df-convert');\n",
              "        buttonEl.style.display =\n",
              "          google.colab.kernel.accessAllowed ? 'block' : 'none';\n",
              "\n",
              "        async function convertToInteractive(key) {\n",
              "          const element = document.querySelector('#df-079415aa-7ca4-461d-90f3-5b809df75d57');\n",
              "          const dataTable =\n",
              "            await google.colab.kernel.invokeFunction('convertToInteractive',\n",
              "                                                     [key], {});\n",
              "          if (!dataTable) return;\n",
              "\n",
              "          const docLinkHtml = 'Like what you see? Visit the ' +\n",
              "            '<a target=\"_blank\" href=https://colab.research.google.com/notebooks/data_table.ipynb>data table notebook</a>'\n",
              "            + ' to learn more about interactive tables.';\n",
              "          element.innerHTML = '';\n",
              "          dataTable['output_type'] = 'display_data';\n",
              "          await google.colab.output.renderOutput(dataTable, element);\n",
              "          const docLink = document.createElement('div');\n",
              "          docLink.innerHTML = docLinkHtml;\n",
              "          element.appendChild(docLink);\n",
              "        }\n",
              "      </script>\n",
              "    </div>\n",
              "  </div>\n",
              "  "
            ]
          },
          "metadata": {},
          "execution_count": 43
        }
      ]
    },
    {
      "cell_type": "code",
      "source": [
        "date_time_product_graph(morning_data)"
      ],
      "metadata": {
        "colab": {
          "base_uri": "https://localhost:8080/",
          "height": 500
        },
        "id": "t5BvI7auJ4pV",
        "outputId": "0eb177f6-64d9-492f-f5dc-e478e1529dd5"
      },
      "execution_count": 44,
      "outputs": [
        {
          "output_type": "display_data",
          "data": {
            "text/plain": [
              "<Figure size 640x480 with 1 Axes>"
            ],
            "image/png": "[encoded data removed]"
          },
          "metadata": {}
        }
      ]
    },
    {
      "cell_type": "markdown",
      "source": [
        "#### Total Purchases Over Afternoon"
      ],
      "metadata": {
        "id": "CKhLJxEi5qjN"
      }
    },
    {
      "cell_type": "code",
      "source": [
        "afternoon_dataframe.head(10)"
      ],
      "metadata": {
        "colab": {
          "base_uri": "https://localhost:8080/",
          "height": 363
        },
        "id": "uOqoQzMjMBdj",
        "outputId": "a74889d9-ef9d-43f1-c29d-dc761017236d"
      },
      "execution_count": 45,
      "outputs": [
        {
          "output_type": "execute_result",
          "data": {
            "text/plain": [
              "                 Time  Purchases\n",
              "0 2021-01-01 12:00:00         64\n",
              "1 2021-01-01 12:01:00         34\n",
              "2 2021-01-01 12:02:00         68\n",
              "3 2021-01-01 12:03:00         50\n",
              "4 2021-01-01 12:04:00         53\n",
              "5 2021-01-01 12:05:00         60\n",
              "6 2021-01-01 12:06:00         44\n",
              "7 2021-01-01 12:07:00         73\n",
              "8 2021-01-01 12:08:00         44\n",
              "9 2021-01-01 12:09:00         25"
            ],
            "text/html": [
              "\n",
              "  <div id=\"df-9d877b0b-61c7-4ef9-8d12-30d5bef166b0\">\n",
              "    <div class=\"colab-df-container\">\n",
              "      <div>\n",
              "<style scoped>\n",
              "    .dataframe tbody tr th:only-of-type {\n",
              "        vertical-align: middle;\n",
              "    }\n",
              "\n",
              "    .dataframe tbody tr th {\n",
              "        vertical-align: top;\n",
              "    }\n",
              "\n",
              "    .dataframe thead th {\n",
              "        text-align: right;\n",
              "    }\n",
              "</style>\n",
              "<table border=\"1\" class=\"dataframe\">\n",
              "  <thead>\n",
              "    <tr style=\"text-align: right;\">\n",
              "      <th></th>\n",
              "      <th>Time</th>\n",
              "      <th>Purchases</th>\n",
              "    </tr>\n",
              "  </thead>\n",
              "  <tbody>\n",
              "    <tr>\n",
              "      <th>0</th>\n",
              "      <td>2021-01-01 12:00:00</td>\n",
              "      <td>64</td>\n",
              "    </tr>\n",
              "    <tr>\n",
              "      <th>1</th>\n",
              "      <td>2021-01-01 12:01:00</td>\n",
              "      <td>34</td>\n",
              "    </tr>\n",
              "    <tr>\n",
              "      <th>2</th>\n",
              "      <td>2021-01-01 12:02:00</td>\n",
              "      <td>68</td>\n",
              "    </tr>\n",
              "    <tr>\n",
              "      <th>3</th>\n",
              "      <td>2021-01-01 12:03:00</td>\n",
              "      <td>50</td>\n",
              "    </tr>\n",
              "    <tr>\n",
              "      <th>4</th>\n",
              "      <td>2021-01-01 12:04:00</td>\n",
              "      <td>53</td>\n",
              "    </tr>\n",
              "    <tr>\n",
              "      <th>5</th>\n",
              "      <td>2021-01-01 12:05:00</td>\n",
              "      <td>60</td>\n",
              "    </tr>\n",
              "    <tr>\n",
              "      <th>6</th>\n",
              "      <td>2021-01-01 12:06:00</td>\n",
              "      <td>44</td>\n",
              "    </tr>\n",
              "    <tr>\n",
              "      <th>7</th>\n",
              "      <td>2021-01-01 12:07:00</td>\n",
              "      <td>73</td>\n",
              "    </tr>\n",
              "    <tr>\n",
              "      <th>8</th>\n",
              "      <td>2021-01-01 12:08:00</td>\n",
              "      <td>44</td>\n",
              "    </tr>\n",
              "    <tr>\n",
              "      <th>9</th>\n",
              "      <td>2021-01-01 12:09:00</td>\n",
              "      <td>25</td>\n",
              "    </tr>\n",
              "  </tbody>\n",
              "</table>\n",
              "</div>\n",
              "      <button class=\"colab-df-convert\" onclick=\"convertToInteractive('df-9d877b0b-61c7-4ef9-8d12-30d5bef166b0')\"\n",
              "              title=\"Convert this dataframe to an interactive table.\"\n",
              "              style=\"display:none;\">\n",
              "        \n",
              "  <svg xmlns=\"http://www.w3.org/2000/svg\" height=\"24px\"viewBox=\"0 0 24 24\"\n",
              "       width=\"24px\">\n",
              "    <path d=\"M0 0h24v24H0V0z\" fill=\"none\"/>\n",
              "    <path d=\"M18.56 5.44l.94 2.06.94-2.06 2.06-.94-2.06-.94-.94-2.06-.94 2.06-2.06.94zm-11 1L8.5 8.5l.94-2.06 2.06-.94-2.06-.94L8.5 2.5l-.94 2.06-2.06.94zm10 10l.94 2.06.94-2.06 2.06-.94-2.06-.94-.94-2.06-.94 2.06-2.06.94z\"/><path d=\"M17.41 7.96l-1.37-1.37c-.4-.4-.92-.59-1.43-.59-.52 0-1.04.2-1.43.59L10.3 9.45l-7.72 7.72c-.78.78-.78 2.05 0 2.83L4 21.41c.39.39.9.59 1.41.59.51 0 1.02-.2 1.41-.59l7.78-7.78 2.81-2.81c.8-.78.8-2.07 0-2.86zM5.41 20L4 18.59l7.72-7.72 1.47 1.35L5.41 20z\"/>\n",
              "  </svg>\n",
              "      </button>\n",
              "      \n",
              "  <style>\n",
              "    .colab-df-container {\n",
              "      display:flex;\n",
              "      flex-wrap:wrap;\n",
              "      gap: 12px;\n",
              "    }\n",
              "\n",
              "    .colab-df-convert {\n",
              "      background-color: #E8F0FE;\n",
              "      border: none;\n",
              "      border-radius: 50%;\n",
              "      cursor: pointer;\n",
              "      display: none;\n",
              "      fill: #1967D2;\n",
              "      height: 32px;\n",
              "      padding: 0 0 0 0;\n",
              "      width: 32px;\n",
              "    }\n",
              "\n",
              "    .colab-df-convert:hover {\n",
              "      background-color: #E2EBFA;\n",
              "      box-shadow: 0px 1px 2px rgba(60, 64, 67, 0.3), 0px 1px 3px 1px rgba(60, 64, 67, 0.15);\n",
              "      fill: #174EA6;\n",
              "    }\n",
              "\n",
              "    [theme=dark] .colab-df-convert {\n",
              "      background-color: #3B4455;\n",
              "      fill: #D2E3FC;\n",
              "    }\n",
              "\n",
              "    [theme=dark] .colab-df-convert:hover {\n",
              "      background-color: #434B5C;\n",
              "      box-shadow: 0px 1px 3px 1px rgba(0, 0, 0, 0.15);\n",
              "      filter: drop-shadow(0px 1px 2px rgba(0, 0, 0, 0.3));\n",
              "      fill: #FFFFFF;\n",
              "    }\n",
              "  </style>\n",
              "\n",
              "      <script>\n",
              "        const buttonEl =\n",
              "          document.querySelector('#df-9d877b0b-61c7-4ef9-8d12-30d5bef166b0 button.colab-df-convert');\n",
              "        buttonEl.style.display =\n",
              "          google.colab.kernel.accessAllowed ? 'block' : 'none';\n",
              "\n",
              "        async function convertToInteractive(key) {\n",
              "          const element = document.querySelector('#df-9d877b0b-61c7-4ef9-8d12-30d5bef166b0');\n",
              "          const dataTable =\n",
              "            await google.colab.kernel.invokeFunction('convertToInteractive',\n",
              "                                                     [key], {});\n",
              "          if (!dataTable) return;\n",
              "\n",
              "          const docLinkHtml = 'Like what you see? Visit the ' +\n",
              "            '<a target=\"_blank\" href=https://colab.research.google.com/notebooks/data_table.ipynb>data table notebook</a>'\n",
              "            + ' to learn more about interactive tables.';\n",
              "          element.innerHTML = '';\n",
              "          dataTable['output_type'] = 'display_data';\n",
              "          await google.colab.output.renderOutput(dataTable, element);\n",
              "          const docLink = document.createElement('div');\n",
              "          docLink.innerHTML = docLinkHtml;\n",
              "          element.appendChild(docLink);\n",
              "        }\n",
              "      </script>\n",
              "    </div>\n",
              "  </div>\n",
              "  "
            ]
          },
          "metadata": {},
          "execution_count": 45
        }
      ]
    },
    {
      "cell_type": "code",
      "source": [
        "date_time_graph(afternoon_dataframe)"
      ],
      "metadata": {
        "colab": {
          "base_uri": "https://localhost:8080/",
          "height": 463
        },
        "id": "CxyZXL-PKwMF",
        "outputId": "5e58175c-db15-4e87-ba2f-ff199d6dff85"
      },
      "execution_count": 46,
      "outputs": [
        {
          "output_type": "display_data",
          "data": {
            "text/plain": [
              "<Figure size 640x480 with 1 Axes>"
            ],
            "image/png": "[encoded data removed]"
          },
          "metadata": {}
        }
      ]
    },
    {
      "cell_type": "code",
      "source": [
        "afternoon_data.head(11)"
      ],
      "metadata": {
        "colab": {
          "base_uri": "https://localhost:8080/",
          "height": 363
        },
        "id": "vjG1qeg6V53l",
        "outputId": "a344533e-0777-45ae-a234-d6dd7f155309"
      },
      "execution_count": 47,
      "outputs": [
        {
          "output_type": "execute_result",
          "data": {
            "text/plain": [
              "            Time  Purchases\n",
              "0  12:00 - 12:30       1410\n",
              "1  12:30 - 13:00       1433\n",
              "2  13:00 - 13:30       1288\n",
              "3  13:30 - 14:00       1334\n",
              "4  14:00 - 14:30       1414\n",
              "5  14:30 - 15:00       1211\n",
              "6  15:00 - 15:30       1019\n",
              "7  15:30 - 16:00       1098\n",
              "8  16:00 - 16:30        779\n",
              "9  16:30 - 17:00        519"
            ],
            "text/html": [
              "\n",
              "  <div id=\"df-3e0a3eb5-a9cc-40b0-84bd-71f54ef8d0da\">\n",
              "    <div class=\"colab-df-container\">\n",
              "      <div>\n",
              "<style scoped>\n",
              "    .dataframe tbody tr th:only-of-type {\n",
              "        vertical-align: middle;\n",
              "    }\n",
              "\n",
              "    .dataframe tbody tr th {\n",
              "        vertical-align: top;\n",
              "    }\n",
              "\n",
              "    .dataframe thead th {\n",
              "        text-align: right;\n",
              "    }\n",
              "</style>\n",
              "<table border=\"1\" class=\"dataframe\">\n",
              "  <thead>\n",
              "    <tr style=\"text-align: right;\">\n",
              "      <th></th>\n",
              "      <th>Time</th>\n",
              "      <th>Purchases</th>\n",
              "    </tr>\n",
              "  </thead>\n",
              "  <tbody>\n",
              "    <tr>\n",
              "      <th>0</th>\n",
              "      <td>12:00 - 12:30</td>\n",
              "      <td>1410</td>\n",
              "    </tr>\n",
              "    <tr>\n",
              "      <th>1</th>\n",
              "      <td>12:30 - 13:00</td>\n",
              "      <td>1433</td>\n",
              "    </tr>\n",
              "    <tr>\n",
              "      <th>2</th>\n",
              "      <td>13:00 - 13:30</td>\n",
              "      <td>1288</td>\n",
              "    </tr>\n",
              "    <tr>\n",
              "      <th>3</th>\n",
              "      <td>13:30 - 14:00</td>\n",
              "      <td>1334</td>\n",
              "    </tr>\n",
              "    <tr>\n",
              "      <th>4</th>\n",
              "      <td>14:00 - 14:30</td>\n",
              "      <td>1414</td>\n",
              "    </tr>\n",
              "    <tr>\n",
              "      <th>5</th>\n",
              "      <td>14:30 - 15:00</td>\n",
              "      <td>1211</td>\n",
              "    </tr>\n",
              "    <tr>\n",
              "      <th>6</th>\n",
              "      <td>15:00 - 15:30</td>\n",
              "      <td>1019</td>\n",
              "    </tr>\n",
              "    <tr>\n",
              "      <th>7</th>\n",
              "      <td>15:30 - 16:00</td>\n",
              "      <td>1098</td>\n",
              "    </tr>\n",
              "    <tr>\n",
              "      <th>8</th>\n",
              "      <td>16:00 - 16:30</td>\n",
              "      <td>779</td>\n",
              "    </tr>\n",
              "    <tr>\n",
              "      <th>9</th>\n",
              "      <td>16:30 - 17:00</td>\n",
              "      <td>519</td>\n",
              "    </tr>\n",
              "  </tbody>\n",
              "</table>\n",
              "</div>\n",
              "      <button class=\"colab-df-convert\" onclick=\"convertToInteractive('df-3e0a3eb5-a9cc-40b0-84bd-71f54ef8d0da')\"\n",
              "              title=\"Convert this dataframe to an interactive table.\"\n",
              "              style=\"display:none;\">\n",
              "        \n",
              "  <svg xmlns=\"http://www.w3.org/2000/svg\" height=\"24px\"viewBox=\"0 0 24 24\"\n",
              "       width=\"24px\">\n",
              "    <path d=\"M0 0h24v24H0V0z\" fill=\"none\"/>\n",
              "    <path d=\"M18.56 5.44l.94 2.06.94-2.06 2.06-.94-2.06-.94-.94-2.06-.94 2.06-2.06.94zm-11 1L8.5 8.5l.94-2.06 2.06-.94-2.06-.94L8.5 2.5l-.94 2.06-2.06.94zm10 10l.94 2.06.94-2.06 2.06-.94-2.06-.94-.94-2.06-.94 2.06-2.06.94z\"/><path d=\"M17.41 7.96l-1.37-1.37c-.4-.4-.92-.59-1.43-.59-.52 0-1.04.2-1.43.59L10.3 9.45l-7.72 7.72c-.78.78-.78 2.05 0 2.83L4 21.41c.39.39.9.59 1.41.59.51 0 1.02-.2 1.41-.59l7.78-7.78 2.81-2.81c.8-.78.8-2.07 0-2.86zM5.41 20L4 18.59l7.72-7.72 1.47 1.35L5.41 20z\"/>\n",
              "  </svg>\n",
              "      </button>\n",
              "      \n",
              "  <style>\n",
              "    .colab-df-container {\n",
              "      display:flex;\n",
              "      flex-wrap:wrap;\n",
              "      gap: 12px;\n",
              "    }\n",
              "\n",
              "    .colab-df-convert {\n",
              "      background-color: #E8F0FE;\n",
              "      border: none;\n",
              "      border-radius: 50%;\n",
              "      cursor: pointer;\n",
              "      display: none;\n",
              "      fill: #1967D2;\n",
              "      height: 32px;\n",
              "      padding: 0 0 0 0;\n",
              "      width: 32px;\n",
              "    }\n",
              "\n",
              "    .colab-df-convert:hover {\n",
              "      background-color: #E2EBFA;\n",
              "      box-shadow: 0px 1px 2px rgba(60, 64, 67, 0.3), 0px 1px 3px 1px rgba(60, 64, 67, 0.15);\n",
              "      fill: #174EA6;\n",
              "    }\n",
              "\n",
              "    [theme=dark] .colab-df-convert {\n",
              "      background-color: #3B4455;\n",
              "      fill: #D2E3FC;\n",
              "    }\n",
              "\n",
              "    [theme=dark] .colab-df-convert:hover {\n",
              "      background-color: #434B5C;\n",
              "      box-shadow: 0px 1px 3px 1px rgba(0, 0, 0, 0.15);\n",
              "      filter: drop-shadow(0px 1px 2px rgba(0, 0, 0, 0.3));\n",
              "      fill: #FFFFFF;\n",
              "    }\n",
              "  </style>\n",
              "\n",
              "      <script>\n",
              "        const buttonEl =\n",
              "          document.querySelector('#df-3e0a3eb5-a9cc-40b0-84bd-71f54ef8d0da button.colab-df-convert');\n",
              "        buttonEl.style.display =\n",
              "          google.colab.kernel.accessAllowed ? 'block' : 'none';\n",
              "\n",
              "        async function convertToInteractive(key) {\n",
              "          const element = document.querySelector('#df-3e0a3eb5-a9cc-40b0-84bd-71f54ef8d0da');\n",
              "          const dataTable =\n",
              "            await google.colab.kernel.invokeFunction('convertToInteractive',\n",
              "                                                     [key], {});\n",
              "          if (!dataTable) return;\n",
              "\n",
              "          const docLinkHtml = 'Like what you see? Visit the ' +\n",
              "            '<a target=\"_blank\" href=https://colab.research.google.com/notebooks/data_table.ipynb>data table notebook</a>'\n",
              "            + ' to learn more about interactive tables.';\n",
              "          element.innerHTML = '';\n",
              "          dataTable['output_type'] = 'display_data';\n",
              "          await google.colab.output.renderOutput(dataTable, element);\n",
              "          const docLink = document.createElement('div');\n",
              "          docLink.innerHTML = docLinkHtml;\n",
              "          element.appendChild(docLink);\n",
              "        }\n",
              "      </script>\n",
              "    </div>\n",
              "  </div>\n",
              "  "
            ]
          },
          "metadata": {},
          "execution_count": 47
        }
      ]
    },
    {
      "cell_type": "code",
      "source": [
        "date_time_product_graph(afternoon_data)"
      ],
      "metadata": {
        "colab": {
          "base_uri": "https://localhost:8080/",
          "height": 500
        },
        "id": "DGT2fjTLV6ZW",
        "outputId": "6e2bbbc5-4f74-4834-c51b-4b67f0ce1cae"
      },
      "execution_count": 48,
      "outputs": [
        {
          "output_type": "display_data",
          "data": {
            "text/plain": [
              "<Figure size 640x480 with 1 Axes>"
            ],
            "image/png": "[encoded data removed]"
          },
          "metadata": {}
        }
      ]
    },
    {
      "cell_type": "markdown",
      "source": [
        "### Insights"
      ],
      "metadata": {
        "id": "UwMZweved8k2"
      }
    },
    {
      "cell_type": "markdown",
      "source": [
        "- In the morning, the movement is starts to get more intense around 08:00, so the preparatives for recieveing clients should be done before it to avoid problems, once there will have too many people at the shop.\n",
        "\n",
        "- The majority of sales occur between 09:00 and 16:00. This is the interval where there has to be more attention to te public, meaning that should be more employeed, use of infraestructure and products available to facilitate the sale."
      ],
      "metadata": {
        "id": "0vB17Qisd-Lv"
      }
    },
    {
      "cell_type": "markdown",
      "source": [
        "## Day Time Analysis for Product - Bread"
      ],
      "metadata": {
        "id": "2Fa0SwlmMauq"
      }
    },
    {
      "cell_type": "markdown",
      "source": [
        "### Code"
      ],
      "metadata": {
        "id": "x0ezcCAEQT46"
      }
    },
    {
      "cell_type": "markdown",
      "source": [
        "#### From 06:00 to 07:00"
      ],
      "metadata": {
        "id": "aoOVjrYefbuu"
      }
    },
    {
      "cell_type": "code",
      "source": [
        "time_product_bread_6 = '''select date_time as Time, period_day as 'Day Period'\n",
        "              from\n",
        "                data\n",
        "              where\n",
        "                Item = 'Bread'\n",
        "              '''\n",
        "\n",
        "time_product_bread_6_data = ps.sqldf(time_product_bread_6)\n",
        "\n",
        "for numero_linha_2_2, texto_linha_2_2 in enumerate(time_product_bread_6_data['Time']):\n",
        "  tempo_2_2 = time_product_bread_6_data['Time'].iloc[numero_linha_2_2]\n",
        "  timestamp_2_2 = datetime.datetime.strptime(tempo_2_2, '%d-%m-%Y %H:%M')\n",
        "  time_product_bread_6_data['Time'][numero_linha_2_2] = timestamp_2_2.strftime('2021-01-01 %H:%M')\n",
        "\n",
        "bread_count_6 = '''select Time, count(Time) as Purchases\n",
        "              from\n",
        "                time_product_bread_6_data\n",
        "              where\n",
        "                Time >= '2021-01-01 06:00:00' and Time < '2021-01-01 07:00:00'\n",
        "              '''\n",
        "\n",
        "bread_count_6_data_1 = ps.sqldf(bread_count_6)\n",
        "\n",
        "time_data_bread_6 = ['06:00 - 07:00']\n",
        "\n",
        "bread_count_6_data = pd.DataFrame({'Time': time_data_bread_6,\n",
        "                                  'Purchases': bread_count_6_data_1['Purchases']})\n",
        "\n",
        "bread_6_dataframe = bread_count_6_data"
      ],
      "metadata": {
        "id": "ZujlcbgRfb_I"
      },
      "execution_count": 49,
      "outputs": []
    },
    {
      "cell_type": "markdown",
      "source": [
        "#### From 07:00 to 08:00"
      ],
      "metadata": {
        "id": "WMcEw7Mme_FN"
      }
    },
    {
      "cell_type": "code",
      "source": [
        "time_product_bread_7 = '''select date_time as Time, period_day as 'Day Period'\n",
        "              from\n",
        "                data\n",
        "              where\n",
        "                Item = 'Bread'\n",
        "              '''\n",
        "\n",
        "time_product_bread_7_data = ps.sqldf(time_product_bread_7)\n",
        "\n",
        "for numero_linha_2_1, texto_linha_2_1 in enumerate(time_product_bread_7_data['Time']):\n",
        "  tempo_2_1 = time_product_bread_7_data['Time'].iloc[numero_linha_2_1]\n",
        "  timestamp_2_1 = datetime.datetime.strptime(tempo_2_1, '%d-%m-%Y %H:%M')\n",
        "  time_product_bread_7_data['Time'][numero_linha_2_1] = timestamp_2_1.strftime('2021-01-01 %H:%M')\n",
        "\n",
        "bread_count_7 = '''select Time, count(Time) as Purchases\n",
        "              from\n",
        "                time_product_bread_7_data\n",
        "              where\n",
        "                Time >= '2021-01-01 07:00:00' and Time < '2021-01-01 08:00:00'\n",
        "              '''\n",
        "\n",
        "bread_count_7_data_1 = ps.sqldf(bread_count_7)\n",
        "\n",
        "time_data_bread_7 = ['07:00 - 08:00']\n",
        "\n",
        "bread_count_7_data = pd.DataFrame({'Time': time_data_bread_7,\n",
        "                                  'Purchases': bread_count_7_data_1['Purchases']})\n",
        "\n",
        "bread_7_dataframe = bread_count_7_data"
      ],
      "metadata": {
        "id": "2j6fgCb3e_bl"
      },
      "execution_count": 50,
      "outputs": []
    },
    {
      "cell_type": "markdown",
      "source": [
        "#### From 08:00 to 09:00"
      ],
      "metadata": {
        "id": "MHkeQ0dyWLe5"
      }
    },
    {
      "cell_type": "code",
      "source": [
        "time_product_bread_8 = '''select date_time as Time, period_day as 'Day Period'\n",
        "              from\n",
        "                data\n",
        "              where\n",
        "                Item = 'Bread'\n",
        "              '''\n",
        "\n",
        "time_product_bread_8_data = ps.sqldf(time_product_bread_8)\n",
        "\n",
        "for numero_linha_2, texto_linha_2 in enumerate(time_product_bread_8_data['Time']):\n",
        "  tempo_2 = time_product_bread_8_data['Time'].iloc[numero_linha_2]\n",
        "  timestamp_2 = datetime.datetime.strptime(tempo_2, '%d-%m-%Y %H:%M')\n",
        "  time_product_bread_8_data['Time'][numero_linha_2] = timestamp_2.strftime('2021-01-01 %H:%M')\n",
        "\n",
        "bread_count_8 = '''select Time, count(Time) as Purchases\n",
        "              from\n",
        "                time_product_bread_8_data\n",
        "              where\n",
        "                Time >= '2021-01-01 08:00:00' and Time < '2021-01-01 09:00:00'\n",
        "              '''\n",
        "\n",
        "bread_count_8_data_1 = ps.sqldf(bread_count_8)\n",
        "\n",
        "time_data_bread_8 = ['08:00 - 09:00']\n",
        "\n",
        "bread_count_8_data = pd.DataFrame({'Time': time_data_bread_8,\n",
        "                                  'Purchases': bread_count_8_data_1['Purchases']})\n",
        "\n",
        "bread_8_dataframe = bread_count_8_data"
      ],
      "metadata": {
        "id": "5tjqf1gxMfQH"
      },
      "execution_count": 51,
      "outputs": []
    },
    {
      "cell_type": "markdown",
      "source": [
        "#### From 09:00 to 10:00"
      ],
      "metadata": {
        "id": "JZRWffdcXDFA"
      }
    },
    {
      "cell_type": "code",
      "source": [
        "time_product_bread_9 = '''select date_time as Time, period_day as 'Day Period'\n",
        "              from\n",
        "                data\n",
        "              where\n",
        "                Item = 'Bread'\n",
        "              '''\n",
        "\n",
        "time_product_bread_9_data = ps.sqldf(time_product_bread_9)\n",
        "\n",
        "for numero_linha_3, texto_linha_3 in enumerate(time_product_bread_9_data['Time']):\n",
        "  tempo_3 = time_product_bread_9_data['Time'].iloc[numero_linha_3]\n",
        "  timestamp_3 = datetime.datetime.strptime(tempo_3, '%d-%m-%Y %H:%M')\n",
        "  time_product_bread_9_data['Time'][numero_linha_3] = timestamp_3.strftime('2021-01-01 %H:%M')\n",
        "\n",
        "bread_count_9 = '''select Time, count(Time) as Purchases\n",
        "              from\n",
        "                time_product_bread_9_data\n",
        "              where\n",
        "                Time >= '2021-01-01 09:00:00' and Time < '2021-01-01 10:00:00'\n",
        "              '''\n",
        "\n",
        "bread_count_9_data_1 = ps.sqldf(bread_count_9)\n",
        "\n",
        "time_data_bread_9 = ['09:00 - 10:00']\n",
        "\n",
        "bread_count_9_data = pd.DataFrame({'Time': time_data_bread_9,\n",
        "                                  'Purchases': bread_count_9_data_1['Purchases']})\n",
        "\n",
        "bread_9_dataframe = bread_count_9_data"
      ],
      "metadata": {
        "id": "v6SROKGqXnSf"
      },
      "execution_count": 52,
      "outputs": []
    },
    {
      "cell_type": "markdown",
      "source": [
        "#### From 10:00 to 11:00"
      ],
      "metadata": {
        "id": "uVUNZ0eMXJk2"
      }
    },
    {
      "cell_type": "code",
      "source": [
        "time_product_bread_10 = '''select date_time as Time, period_day as 'Day Period'\n",
        "              from\n",
        "                data\n",
        "              where\n",
        "                Item = 'Bread'\n",
        "              '''\n",
        "\n",
        "time_product_bread_10_data = ps.sqldf(time_product_bread_10)\n",
        "\n",
        "for numero_linha_4, texto_linha_4 in enumerate(time_product_bread_10_data['Time']):\n",
        "  tempo_4 = time_product_bread_10_data['Time'].iloc[numero_linha_4]\n",
        "  timestamp_4 = datetime.datetime.strptime(tempo_4, '%d-%m-%Y %H:%M')\n",
        "  time_product_bread_10_data['Time'][numero_linha_4] = timestamp_4.strftime('2021-01-01 %H:%M')\n",
        "\n",
        "bread_count_10 = '''select Time, count(Time) as Purchases\n",
        "              from\n",
        "                time_product_bread_10_data\n",
        "              where\n",
        "                Time >= '2021-01-01 10:00:00' and Time < '2021-01-01 11:00:00'\n",
        "              '''\n",
        "\n",
        "bread_count_10_data_1 = ps.sqldf(bread_count_10)\n",
        "\n",
        "time_data_bread_10 = ['10:00 - 11:00']\n",
        "\n",
        "bread_count_10_data = pd.DataFrame({'Time': time_data_bread_10,\n",
        "                                  'Purchases': bread_count_10_data_1['Purchases']})\n",
        "\n",
        "bread_10_dataframe = bread_count_10_data"
      ],
      "metadata": {
        "id": "RXkWvnAMYDJ9"
      },
      "execution_count": 53,
      "outputs": []
    },
    {
      "cell_type": "markdown",
      "source": [
        "#### From 11:00 to 12:00"
      ],
      "metadata": {
        "id": "g1UWWE2oXM47"
      }
    },
    {
      "cell_type": "code",
      "source": [
        "time_product_bread_11 = '''select date_time as Time, period_day as 'Day Period'\n",
        "              from\n",
        "                data\n",
        "              where\n",
        "                Item = 'Bread'\n",
        "              '''\n",
        "\n",
        "time_product_bread_11_data = ps.sqldf(time_product_bread_11)\n",
        "\n",
        "for numero_linha_5, texto_linha_5 in enumerate(time_product_bread_11_data['Time']):\n",
        "  tempo_5 = time_product_bread_11_data['Time'].iloc[numero_linha_5]\n",
        "  timestamp_5 = datetime.datetime.strptime(tempo_5, '%d-%m-%Y %H:%M')\n",
        "  time_product_bread_11_data['Time'][numero_linha_5] = timestamp_5.strftime('2021-01-01 %H:%M')\n",
        "\n",
        "bread_count_11 = '''select Time, count(Time) as Purchases\n",
        "              from\n",
        "                time_product_bread_11_data\n",
        "              where\n",
        "                Time >= '2021-01-01 11:00:00' and Time < '2021-01-01 12:00:00'\n",
        "              '''\n",
        "\n",
        "bread_count_11_data_1 = ps.sqldf(bread_count_11)\n",
        "\n",
        "time_data_bread_11 = ['11:00 - 12:00']\n",
        "\n",
        "bread_count_11_data = pd.DataFrame({'Time': time_data_bread_11,\n",
        "                                  'Purchases': bread_count_11_data_1['Purchases']})\n",
        "\n",
        "bread_11_dataframe = bread_count_11_data"
      ],
      "metadata": {
        "id": "zHN6krPqYhJt"
      },
      "execution_count": 54,
      "outputs": []
    },
    {
      "cell_type": "markdown",
      "source": [
        "#### From 12:00 to 13:00"
      ],
      "metadata": {
        "id": "deI-R3NTY2vH"
      }
    },
    {
      "cell_type": "code",
      "source": [
        "time_product_bread_12 = '''select date_time as Time, period_day as 'Day Period'\n",
        "              from\n",
        "                data\n",
        "              where\n",
        "                Item = 'Bread'\n",
        "              '''\n",
        "\n",
        "time_product_bread_12_data = ps.sqldf(time_product_bread_12)\n",
        "\n",
        "for numero_linha_6, texto_linha_6 in enumerate(time_product_bread_12_data['Time']):\n",
        "  tempo_6 = time_product_bread_12_data['Time'].iloc[numero_linha_6]\n",
        "  timestamp_6 = datetime.datetime.strptime(tempo_6, '%d-%m-%Y %H:%M')\n",
        "  time_product_bread_12_data['Time'][numero_linha_6] = timestamp_6.strftime('2021-01-01 %H:%M')\n",
        "\n",
        "bread_count_12 = '''select Time, count(Time) as Purchases\n",
        "              from\n",
        "                time_product_bread_12_data\n",
        "              where\n",
        "                Time >= '2021-01-01 12:00:00' and Time < '2021-01-01 13:00:00'\n",
        "              '''\n",
        "\n",
        "bread_count_12_data_1 = ps.sqldf(bread_count_12)\n",
        "\n",
        "time_data_bread_12 = ['12:00 - 13:00']\n",
        "\n",
        "bread_count_12_data = pd.DataFrame({'Time': time_data_bread_12,\n",
        "                                  'Purchases': bread_count_12_data_1['Purchases']})\n",
        "\n",
        "bread_12_dataframe = bread_count_12_data"
      ],
      "metadata": {
        "id": "MBSW2XW0Y96g"
      },
      "execution_count": 55,
      "outputs": []
    },
    {
      "cell_type": "markdown",
      "source": [
        "#### From 13:00 to 14:00"
      ],
      "metadata": {
        "id": "7lOwu_RSXQgT"
      }
    },
    {
      "cell_type": "code",
      "source": [
        "time_product_bread_13 = '''select date_time as Time, period_day as 'Day Period'\n",
        "              from\n",
        "                data\n",
        "              where\n",
        "                Item = 'Bread'\n",
        "              '''\n",
        "\n",
        "time_product_bread_13_data = ps.sqldf(time_product_bread_13)\n",
        "\n",
        "for numero_linha_7, texto_linha_7 in enumerate(time_product_bread_13_data['Time']):\n",
        "  tempo_7 = time_product_bread_13_data['Time'].iloc[numero_linha_7]\n",
        "  timestamp_7 = datetime.datetime.strptime(tempo_7, '%d-%m-%Y %H:%M')\n",
        "  time_product_bread_13_data['Time'][numero_linha_7] = timestamp_7.strftime('2021-01-01 %H:%M')\n",
        "\n",
        "bread_count_13 = '''select Time, count(Time) as Purchases\n",
        "              from\n",
        "                time_product_bread_13_data\n",
        "              where\n",
        "                Time >= '2021-01-01 13:00:00' and Time < '2021-01-01 14:00:00'\n",
        "              '''\n",
        "\n",
        "bread_count_13_data_1 = ps.sqldf(bread_count_13)\n",
        "\n",
        "time_data_bread_13 = ['13:00 - 14:00']\n",
        "\n",
        "bread_count_13_data = pd.DataFrame({'Time': time_data_bread_13,\n",
        "                                  'Purchases': bread_count_13_data_1['Purchases']})\n",
        "\n",
        "bread_13_dataframe = bread_count_13_data"
      ],
      "metadata": {
        "id": "oa8FamtEY0d8"
      },
      "execution_count": 56,
      "outputs": []
    },
    {
      "cell_type": "markdown",
      "source": [
        "#### From 14:00 to 15:00"
      ],
      "metadata": {
        "id": "taPWfDCrXT6G"
      }
    },
    {
      "cell_type": "code",
      "source": [
        "time_product_bread_14 = '''select date_time as Time, period_day as 'Day Period'\n",
        "              from\n",
        "                data\n",
        "              where\n",
        "                Item = 'Bread'\n",
        "              '''\n",
        "\n",
        "time_product_bread_14_data = ps.sqldf(time_product_bread_14)\n",
        "\n",
        "for numero_linha_8, texto_linha_8 in enumerate(time_product_bread_14_data['Time']):\n",
        "  tempo_8 = time_product_bread_14_data['Time'].iloc[numero_linha_8]\n",
        "  timestamp_8 = datetime.datetime.strptime(tempo_8, '%d-%m-%Y %H:%M')\n",
        "  time_product_bread_14_data['Time'][numero_linha_8] = timestamp_8.strftime('2021-01-01 %H:%M')\n",
        "\n",
        "bread_count_14 = '''select Time, count(Time) as Purchases\n",
        "              from\n",
        "                time_product_bread_14_data\n",
        "              where\n",
        "                Time >= '2021-01-01 14:00:00' and Time < '2021-01-01 15:00:00'\n",
        "              '''\n",
        "\n",
        "bread_count_14_data_1 = ps.sqldf(bread_count_14)\n",
        "\n",
        "time_data_bread_14 = ['14:00 - 15:00']\n",
        "\n",
        "bread_count_14_data = pd.DataFrame({'Time': time_data_bread_14,\n",
        "                                  'Purchases': bread_count_14_data_1['Purchases']})\n",
        "\n",
        "bread_14_dataframe = bread_count_14_data"
      ],
      "metadata": {
        "id": "OoEQp_T1Z3NV"
      },
      "execution_count": 57,
      "outputs": []
    },
    {
      "cell_type": "markdown",
      "source": [
        "#### From 15:00 to 16:00"
      ],
      "metadata": {
        "id": "Uj98hpjNXWCO"
      }
    },
    {
      "cell_type": "code",
      "source": [
        "time_product_bread_15 = '''select date_time as Time, period_day as 'Day Period'\n",
        "              from\n",
        "                data\n",
        "              where\n",
        "                Item = 'Bread'\n",
        "              '''\n",
        "\n",
        "time_product_bread_15_data = ps.sqldf(time_product_bread_15)\n",
        "\n",
        "for numero_linha_9, texto_linha_9 in enumerate(time_product_bread_15_data['Time']):\n",
        "  tempo_9 = time_product_bread_15_data['Time'].iloc[numero_linha_9]\n",
        "  timestamp_9 = datetime.datetime.strptime(tempo_9, '%d-%m-%Y %H:%M')\n",
        "  time_product_bread_15_data['Time'][numero_linha_9] = timestamp_9.strftime('2021-01-01 %H:%M')\n",
        "\n",
        "bread_count_15 = '''select Time, count(Time) as Purchases\n",
        "              from\n",
        "                time_product_bread_15_data\n",
        "              where\n",
        "                Time >= '2021-01-01 15:00:00' and Time < '2021-01-01 16:00:00'\n",
        "              '''\n",
        "\n",
        "bread_count_15_data_1 = ps.sqldf(bread_count_15)\n",
        "\n",
        "time_data_bread_15 = ['15:00 - 16:00']\n",
        "\n",
        "bread_count_15_data = pd.DataFrame({'Time': time_data_bread_15,\n",
        "                                  'Purchases': bread_count_15_data_1['Purchases']})\n",
        "\n",
        "bread_15_dataframe = bread_count_15_data"
      ],
      "metadata": {
        "id": "lyT_8PNnaTu-"
      },
      "execution_count": 58,
      "outputs": []
    },
    {
      "cell_type": "markdown",
      "source": [
        "#### From 16:00 to 17:00"
      ],
      "metadata": {
        "id": "rin1nrVlXb9s"
      }
    },
    {
      "cell_type": "code",
      "source": [
        "time_product_bread_16 = '''select date_time as Time, period_day as 'Day Period'\n",
        "              from\n",
        "                data\n",
        "              where\n",
        "                Item = 'Bread'\n",
        "              '''\n",
        "\n",
        "time_product_bread_16_data = ps.sqldf(time_product_bread_16)\n",
        "\n",
        "for numero_linha_10, texto_linha_10 in enumerate(time_product_bread_16_data['Time']):\n",
        "  tempo_10 = time_product_bread_16_data['Time'].iloc[numero_linha_10]\n",
        "  timestamp_10 = datetime.datetime.strptime(tempo_10, '%d-%m-%Y %H:%M')\n",
        "  time_product_bread_16_data['Time'][numero_linha_10] = timestamp_10.strftime('2021-01-01 %H:%M')\n",
        "\n",
        "bread_count_16 = '''select Time, count(Time) as Purchases\n",
        "              from\n",
        "                time_product_bread_16_data\n",
        "              where\n",
        "                Time >= '2021-01-01 16:00:00' and Time <= '2021-01-01 17:00:00'\n",
        "              '''\n",
        "\n",
        "bread_count_16_data_1 = ps.sqldf(bread_count_16)\n",
        "\n",
        "time_data_bread_16 = ['16:00 - 17:00']\n",
        "\n",
        "bread_count_16_data = pd.DataFrame({'Time': time_data_bread_16,\n",
        "                                  'Purchases': bread_count_16_data_1['Purchases']})\n",
        "\n",
        "bread_16_dataframe = bread_count_16_data"
      ],
      "metadata": {
        "id": "1MD4TrAmarCU"
      },
      "execution_count": 59,
      "outputs": []
    },
    {
      "cell_type": "markdown",
      "source": [
        "#### From 17:00 to 18:00"
      ],
      "metadata": {
        "id": "MoRbV4FKgitu"
      }
    },
    {
      "cell_type": "code",
      "source": [
        "time_product_bread_17 = '''select date_time as Time, period_day as 'Day Period'\n",
        "              from\n",
        "                data\n",
        "              where\n",
        "                Item = 'Bread'\n",
        "              '''\n",
        "\n",
        "time_product_bread_17_data = ps.sqldf(time_product_bread_17)\n",
        "\n",
        "for numero_linha_11, texto_linha_11 in enumerate(time_product_bread_17_data['Time']):\n",
        "  tempo_11 = time_product_bread_17_data['Time'].iloc[numero_linha_11]\n",
        "  timestamp_11 = datetime.datetime.strptime(tempo_11, '%d-%m-%Y %H:%M')\n",
        "  time_product_bread_17_data['Time'][numero_linha_11] = timestamp_11.strftime('2021-01-01 %H:%M')\n",
        "\n",
        "bread_count_17 = '''select Time, count(Time) as Purchases\n",
        "              from\n",
        "                time_product_bread_17_data\n",
        "              where\n",
        "                Time >= '2021-01-01 17:00:00' and Time <= '2021-01-01 18:00:00'\n",
        "              '''\n",
        "\n",
        "bread_count_17_data_1 = ps.sqldf(bread_count_17)\n",
        "\n",
        "time_data_bread_17 = ['17:00 - 18:00']\n",
        "\n",
        "bread_count_17_data = pd.DataFrame({'Time': time_data_bread_17,\n",
        "                                  'Purchases': bread_count_17_data_1['Purchases']})\n",
        "\n",
        "bread_17_dataframe = bread_count_17_data"
      ],
      "metadata": {
        "id": "eSWOms-Vgt5s"
      },
      "execution_count": 60,
      "outputs": []
    },
    {
      "cell_type": "markdown",
      "source": [
        "#### From 18:00 to 19:00"
      ],
      "metadata": {
        "id": "nolzixCFgpX9"
      }
    },
    {
      "cell_type": "code",
      "source": [
        "time_product_bread_18 = '''select date_time as Time, period_day as 'Day Period'\n",
        "              from\n",
        "                data\n",
        "              where\n",
        "                Item = 'Bread'\n",
        "              '''\n",
        "\n",
        "time_product_bread_18_data = ps.sqldf(time_product_bread_18)\n",
        "\n",
        "for numero_linha_12, texto_linha_12 in enumerate(time_product_bread_18_data['Time']):\n",
        "  tempo_12 = time_product_bread_18_data['Time'].iloc[numero_linha_12]\n",
        "  timestamp_12 = datetime.datetime.strptime(tempo_12, '%d-%m-%Y %H:%M')\n",
        "  time_product_bread_18_data['Time'][numero_linha_12] = timestamp_12.strftime('2021-01-01 %H:%M')\n",
        "\n",
        "bread_count_18 = '''select Time, count(Time) as Purchases\n",
        "              from\n",
        "                time_product_bread_18_data\n",
        "              where\n",
        "                Time >= '2021-01-01 18:00:00' and Time <= '2021-01-01 19:00:00'\n",
        "              '''\n",
        "\n",
        "bread_count_18_data_1 = ps.sqldf(bread_count_18)\n",
        "\n",
        "time_data_bread_18 = ['18:00 - 19:00']\n",
        "\n",
        "bread_count_18_data = pd.DataFrame({'Time': time_data_bread_18,\n",
        "                                  'Purchases': bread_count_18_data_1['Purchases']})\n",
        "\n",
        "bread_18_dataframe = bread_count_18_data"
      ],
      "metadata": {
        "id": "xEbuxnJXhDAG"
      },
      "execution_count": 61,
      "outputs": []
    },
    {
      "cell_type": "markdown",
      "source": [
        "#### Total Data"
      ],
      "metadata": {
        "id": "Ke36y_8SbJ61"
      }
    },
    {
      "cell_type": "code",
      "source": [
        "bread_data = pd.DataFrame({'Time': [bread_6_dataframe.iloc[0][0],\n",
        "                                    bread_7_dataframe.iloc[0][0],\n",
        "                                    bread_8_dataframe.iloc[0][0],\n",
        "                                    bread_9_dataframe.iloc[0][0],\n",
        "                                    bread_10_dataframe.iloc[0][0],\n",
        "                                    bread_11_dataframe.iloc[0][0],\n",
        "                                    bread_12_dataframe.iloc[0][0],\n",
        "                                    bread_13_dataframe.iloc[0][0],\n",
        "                                    bread_14_dataframe.iloc[0][0],\n",
        "                                    bread_15_dataframe.iloc[0][0],\n",
        "                                    bread_16_dataframe.iloc[0][0],\n",
        "                                    bread_17_dataframe.iloc[0][0],\n",
        "                                    bread_18_dataframe.iloc[0][0]],\n",
        "                           'Purchases': [bread_6_dataframe.iloc[0][1],\n",
        "                                         bread_7_dataframe.iloc[0][1],\n",
        "                                         bread_8_dataframe.iloc[0][1],\n",
        "                                         bread_9_dataframe.iloc[0][1],\n",
        "                                         bread_10_dataframe.iloc[0][1],\n",
        "                                         bread_11_dataframe.iloc[0][1],\n",
        "                                         bread_12_dataframe.iloc[0][1],\n",
        "                                         bread_13_dataframe.iloc[0][1],\n",
        "                                         bread_14_dataframe.iloc[0][1],\n",
        "                                         bread_15_dataframe.iloc[0][1],\n",
        "                                         bread_16_dataframe.iloc[0][1],\n",
        "                                         bread_17_dataframe.iloc[0][1],\n",
        "                                         bread_18_dataframe.iloc[0][1]]})"
      ],
      "metadata": {
        "id": "JOxaK290bJk-"
      },
      "execution_count": 62,
      "outputs": []
    },
    {
      "cell_type": "markdown",
      "source": [
        "### Graph and Data"
      ],
      "metadata": {
        "id": "O6EZnI_WQbTD"
      }
    },
    {
      "cell_type": "code",
      "source": [
        "bread_data.head(13)"
      ],
      "metadata": {
        "colab": {
          "base_uri": "https://localhost:8080/",
          "height": 457
        },
        "id": "Du2ih6oiO-28",
        "outputId": "1534ca27-326e-4c40-954f-61a0e09ebdb1"
      },
      "execution_count": 66,
      "outputs": [
        {
          "output_type": "execute_result",
          "data": {
            "text/plain": [
              "             Time  Purchases\n",
              "0   06:00 - 07:00          0\n",
              "1   07:00 - 08:00          2\n",
              "2   08:00 - 09:00        176\n",
              "3   09:00 - 10:00        401\n",
              "4   10:00 - 11:00        518\n",
              "5   11:00 - 12:00        523\n",
              "6   12:00 - 13:00        473\n",
              "7   13:00 - 14:00        342\n",
              "8   14:00 - 15:00        334\n",
              "9   15:00 - 16:00        309\n",
              "10  16:00 - 17:00        192\n",
              "11  17:00 - 18:00         46\n",
              "12  18:00 - 19:00          6"
            ],
            "text/html": [
              "\n",
              "  <div id=\"df-a565d957-30cd-451f-bc12-9b888429fa20\">\n",
              "    <div class=\"colab-df-container\">\n",
              "      <div>\n",
              "<style scoped>\n",
              "    .dataframe tbody tr th:only-of-type {\n",
              "        vertical-align: middle;\n",
              "    }\n",
              "\n",
              "    .dataframe tbody tr th {\n",
              "        vertical-align: top;\n",
              "    }\n",
              "\n",
              "    .dataframe thead th {\n",
              "        text-align: right;\n",
              "    }\n",
              "</style>\n",
              "<table border=\"1\" class=\"dataframe\">\n",
              "  <thead>\n",
              "    <tr style=\"text-align: right;\">\n",
              "      <th></th>\n",
              "      <th>Time</th>\n",
              "      <th>Purchases</th>\n",
              "    </tr>\n",
              "  </thead>\n",
              "  <tbody>\n",
              "    <tr>\n",
              "      <th>0</th>\n",
              "      <td>06:00 - 07:00</td>\n",
              "      <td>0</td>\n",
              "    </tr>\n",
              "    <tr>\n",
              "      <th>1</th>\n",
              "      <td>07:00 - 08:00</td>\n",
              "      <td>2</td>\n",
              "    </tr>\n",
              "    <tr>\n",
              "      <th>2</th>\n",
              "      <td>08:00 - 09:00</td>\n",
              "      <td>176</td>\n",
              "    </tr>\n",
              "    <tr>\n",
              "      <th>3</th>\n",
              "      <td>09:00 - 10:00</td>\n",
              "      <td>401</td>\n",
              "    </tr>\n",
              "    <tr>\n",
              "      <th>4</th>\n",
              "      <td>10:00 - 11:00</td>\n",
              "      <td>518</td>\n",
              "    </tr>\n",
              "    <tr>\n",
              "      <th>5</th>\n",
              "      <td>11:00 - 12:00</td>\n",
              "      <td>523</td>\n",
              "    </tr>\n",
              "    <tr>\n",
              "      <th>6</th>\n",
              "      <td>12:00 - 13:00</td>\n",
              "      <td>473</td>\n",
              "    </tr>\n",
              "    <tr>\n",
              "      <th>7</th>\n",
              "      <td>13:00 - 14:00</td>\n",
              "      <td>342</td>\n",
              "    </tr>\n",
              "    <tr>\n",
              "      <th>8</th>\n",
              "      <td>14:00 - 15:00</td>\n",
              "      <td>334</td>\n",
              "    </tr>\n",
              "    <tr>\n",
              "      <th>9</th>\n",
              "      <td>15:00 - 16:00</td>\n",
              "      <td>309</td>\n",
              "    </tr>\n",
              "    <tr>\n",
              "      <th>10</th>\n",
              "      <td>16:00 - 17:00</td>\n",
              "      <td>192</td>\n",
              "    </tr>\n",
              "    <tr>\n",
              "      <th>11</th>\n",
              "      <td>17:00 - 18:00</td>\n",
              "      <td>46</td>\n",
              "    </tr>\n",
              "    <tr>\n",
              "      <th>12</th>\n",
              "      <td>18:00 - 19:00</td>\n",
              "      <td>6</td>\n",
              "    </tr>\n",
              "  </tbody>\n",
              "</table>\n",
              "</div>\n",
              "      <button class=\"colab-df-convert\" onclick=\"convertToInteractive('df-a565d957-30cd-451f-bc12-9b888429fa20')\"\n",
              "              title=\"Convert this dataframe to an interactive table.\"\n",
              "              style=\"display:none;\">\n",
              "        \n",
              "  <svg xmlns=\"http://www.w3.org/2000/svg\" height=\"24px\"viewBox=\"0 0 24 24\"\n",
              "       width=\"24px\">\n",
              "    <path d=\"M0 0h24v24H0V0z\" fill=\"none\"/>\n",
              "    <path d=\"M18.56 5.44l.94 2.06.94-2.06 2.06-.94-2.06-.94-.94-2.06-.94 2.06-2.06.94zm-11 1L8.5 8.5l.94-2.06 2.06-.94-2.06-.94L8.5 2.5l-.94 2.06-2.06.94zm10 10l.94 2.06.94-2.06 2.06-.94-2.06-.94-.94-2.06-.94 2.06-2.06.94z\"/><path d=\"M17.41 7.96l-1.37-1.37c-.4-.4-.92-.59-1.43-.59-.52 0-1.04.2-1.43.59L10.3 9.45l-7.72 7.72c-.78.78-.78 2.05 0 2.83L4 21.41c.39.39.9.59 1.41.59.51 0 1.02-.2 1.41-.59l7.78-7.78 2.81-2.81c.8-.78.8-2.07 0-2.86zM5.41 20L4 18.59l7.72-7.72 1.47 1.35L5.41 20z\"/>\n",
              "  </svg>\n",
              "      </button>\n",
              "      \n",
              "  <style>\n",
              "    .colab-df-container {\n",
              "      display:flex;\n",
              "      flex-wrap:wrap;\n",
              "      gap: 12px;\n",
              "    }\n",
              "\n",
              "    .colab-df-convert {\n",
              "      background-color: #E8F0FE;\n",
              "      border: none;\n",
              "      border-radius: 50%;\n",
              "      cursor: pointer;\n",
              "      display: none;\n",
              "      fill: #1967D2;\n",
              "      height: 32px;\n",
              "      padding: 0 0 0 0;\n",
              "      width: 32px;\n",
              "    }\n",
              "\n",
              "    .colab-df-convert:hover {\n",
              "      background-color: #E2EBFA;\n",
              "      box-shadow: 0px 1px 2px rgba(60, 64, 67, 0.3), 0px 1px 3px 1px rgba(60, 64, 67, 0.15);\n",
              "      fill: #174EA6;\n",
              "    }\n",
              "\n",
              "    [theme=dark] .colab-df-convert {\n",
              "      background-color: #3B4455;\n",
              "      fill: #D2E3FC;\n",
              "    }\n",
              "\n",
              "    [theme=dark] .colab-df-convert:hover {\n",
              "      background-color: #434B5C;\n",
              "      box-shadow: 0px 1px 3px 1px rgba(0, 0, 0, 0.15);\n",
              "      filter: drop-shadow(0px 1px 2px rgba(0, 0, 0, 0.3));\n",
              "      fill: #FFFFFF;\n",
              "    }\n",
              "  </style>\n",
              "\n",
              "      <script>\n",
              "        const buttonEl =\n",
              "          document.querySelector('#df-a565d957-30cd-451f-bc12-9b888429fa20 button.colab-df-convert');\n",
              "        buttonEl.style.display =\n",
              "          google.colab.kernel.accessAllowed ? 'block' : 'none';\n",
              "\n",
              "        async function convertToInteractive(key) {\n",
              "          const element = document.querySelector('#df-a565d957-30cd-451f-bc12-9b888429fa20');\n",
              "          const dataTable =\n",
              "            await google.colab.kernel.invokeFunction('convertToInteractive',\n",
              "                                                     [key], {});\n",
              "          if (!dataTable) return;\n",
              "\n",
              "          const docLinkHtml = 'Like what you see? Visit the ' +\n",
              "            '<a target=\"_blank\" href=https://colab.research.google.com/notebooks/data_table.ipynb>data table notebook</a>'\n",
              "            + ' to learn more about interactive tables.';\n",
              "          element.innerHTML = '';\n",
              "          dataTable['output_type'] = 'display_data';\n",
              "          await google.colab.output.renderOutput(dataTable, element);\n",
              "          const docLink = document.createElement('div');\n",
              "          docLink.innerHTML = docLinkHtml;\n",
              "          element.appendChild(docLink);\n",
              "        }\n",
              "      </script>\n",
              "    </div>\n",
              "  </div>\n",
              "  "
            ]
          },
          "metadata": {},
          "execution_count": 66
        }
      ]
    },
    {
      "cell_type": "code",
      "source": [
        "date_time_product_graph(bread_data)"
      ],
      "metadata": {
        "colab": {
          "base_uri": "https://localhost:8080/",
          "height": 500
        },
        "id": "dWKTT3edNf9-",
        "outputId": "4fe563d0-86da-4299-978e-4eb9d3315a12"
      },
      "execution_count": 64,
      "outputs": [
        {
          "output_type": "display_data",
          "data": {
            "text/plain": [
              "<Figure size 640x480 with 1 Axes>"
            ],
            "image/png": "[encoded data removed]"
          },
          "metadata": {}
        }
      ]
    },
    {
      "cell_type": "markdown",
      "source": [
        "### Insights"
      ],
      "metadata": {
        "id": "9ISNv_kc1cbY"
      }
    },
    {
      "cell_type": "markdown",
      "source": [
        "- One interesting approach is to analise each products by its salles over time. In this case, we are analising the Sales over time of  Bread. In this approach there's some specific insights that can be retrieved.\n",
        "\n",
        "- For the Bread, the most sales occur between 08:00 and 16:00. So, by this time there should always be Bread available for sales.\n",
        "\n",
        "- Since Bread is usualy better when consumed fresh, while it still warm and soft, this is the period where should have a Bread production line working with high intensity, so that breads can continously being served when they just got right out of the oven.\n",
        "\n",
        "- On the other hand, analysing the rest of the time out the most sales gap, Bread is not sold that much. So it could be an alternative to save some currency by realocating employees out of the Bread production line."
      ],
      "metadata": {
        "id": "IW7yhzaq1emc"
      }
    }
  ]
}